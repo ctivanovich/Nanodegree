{
 "cells": [
  {
   "cell_type": "markdown",
   "metadata": {},
   "source": [
    "## Poking at data in excel file, wrangling into DB-ready format"
   ]
  },
  {
   "cell_type": "code",
   "execution_count": 7,
   "metadata": {},
   "outputs": [],
   "source": [
    "import pandas as pd\n",
    "\n",
    "import psycopg2 as pg2\n",
    "from psycopg2.extensions import ISOLATION_LEVEL_AUTOCOMMIT\n",
    "from psycopg2.extras import DictCursor"
   ]
  },
  {
   "cell_type": "code",
   "execution_count": 8,
   "metadata": {},
   "outputs": [],
   "source": [
    "df = pd.read_excel('sei.xlsx')"
   ]
  },
  {
   "cell_type": "code",
   "execution_count": 9,
   "metadata": {},
   "outputs": [
    {
     "data": {
      "text/html": [
       "<div>\n",
       "<style scoped>\n",
       "    .dataframe tbody tr th:only-of-type {\n",
       "        vertical-align: middle;\n",
       "    }\n",
       "\n",
       "    .dataframe tbody tr th {\n",
       "        vertical-align: top;\n",
       "    }\n",
       "\n",
       "    .dataframe thead th {\n",
       "        text-align: right;\n",
       "    }\n",
       "</style>\n",
       "<table border=\"1\" class=\"dataframe\">\n",
       "  <thead>\n",
       "    <tr style=\"text-align: right;\">\n",
       "      <th></th>\n",
       "      <th>ARRDATE</th>\n",
       "      <th>MONTH &amp; YEAR</th>\n",
       "      <th>COMMODITY DESCRIPTION</th>\n",
       "      <th>LOCAL PORT</th>\n",
       "      <th>TRANSHIPPORT</th>\n",
       "      <th>FOREIGN PORT</th>\n",
       "      <th>CODE COUNTRY</th>\n",
       "      <th>PRODUCTION REGION</th>\n",
       "      <th>TRADELANE</th>\n",
       "      <th>CARRIER</th>\n",
       "      <th>VESSEL</th>\n",
       "      <th>LOCAL TRADER</th>\n",
       "      <th>FOREIGN TRADER</th>\n",
       "      <th>QTY OF PACKAGES</th>\n",
       "      <th>WEIGHT (KG)</th>\n",
       "    </tr>\n",
       "  </thead>\n",
       "  <tbody>\n",
       "    <tr>\n",
       "      <th>0</th>\n",
       "      <td>20140214</td>\n",
       "      <td>201402</td>\n",
       "      <td>COFFEE</td>\n",
       "      <td>PARANAGUA</td>\n",
       "      <td>GIOIA TAURO</td>\n",
       "      <td>NAPOLI</td>\n",
       "      <td>IT</td>\n",
       "      <td>1</td>\n",
       "      <td>MEDITERRANEAN/BLACK SEA/CASPIAN SEA</td>\n",
       "      <td>MSC</td>\n",
       "      <td>MSC ABIDJAN</td>\n",
       "      <td>FORTALEZA AGRO MERCANTIL LTDA</td>\n",
       "      <td>KIMBO SPA</td>\n",
       "      <td>0</td>\n",
       "      <td>59940</td>\n",
       "    </tr>\n",
       "    <tr>\n",
       "      <th>1</th>\n",
       "      <td>20140214</td>\n",
       "      <td>201402</td>\n",
       "      <td>COFFEE</td>\n",
       "      <td>PARANAGUA</td>\n",
       "      <td>GIOIA TAURO</td>\n",
       "      <td>NAPOLI</td>\n",
       "      <td>IT</td>\n",
       "      <td>1</td>\n",
       "      <td>MEDITERRANEAN/BLACK SEA/CASPIAN SEA</td>\n",
       "      <td>MSC</td>\n",
       "      <td>MSC ABIDJAN</td>\n",
       "      <td>FORTALEZA AGRO MERCANTIL LTDA</td>\n",
       "      <td>KIMBO SPA</td>\n",
       "      <td>0</td>\n",
       "      <td>59940</td>\n",
       "    </tr>\n",
       "    <tr>\n",
       "      <th>2</th>\n",
       "      <td>20140207</td>\n",
       "      <td>201402</td>\n",
       "      <td>COFFEE</td>\n",
       "      <td>PARANAGUA</td>\n",
       "      <td>GIOIA TAURO</td>\n",
       "      <td>NAPOLI</td>\n",
       "      <td>IT</td>\n",
       "      <td>1</td>\n",
       "      <td>MEDITERRANEAN/BLACK SEA/CASPIAN SEA</td>\n",
       "      <td>MSC</td>\n",
       "      <td>MSC ARICA</td>\n",
       "      <td>FORTALEZA AGRO MERCANTIL LTDA</td>\n",
       "      <td>KIMBO SPA</td>\n",
       "      <td>0</td>\n",
       "      <td>99900</td>\n",
       "    </tr>\n",
       "    <tr>\n",
       "      <th>3</th>\n",
       "      <td>20140207</td>\n",
       "      <td>201402</td>\n",
       "      <td>COFFEE</td>\n",
       "      <td>PARANAGUA</td>\n",
       "      <td>GIOIA TAURO</td>\n",
       "      <td>NAPOLI</td>\n",
       "      <td>IT</td>\n",
       "      <td>1</td>\n",
       "      <td>MEDITERRANEAN/BLACK SEA/CASPIAN SEA</td>\n",
       "      <td>MSC</td>\n",
       "      <td>MSC ARICA</td>\n",
       "      <td>FORTALEZA AGRO MERCANTIL LTDA</td>\n",
       "      <td>KIMBO SPA</td>\n",
       "      <td>0</td>\n",
       "      <td>99900</td>\n",
       "    </tr>\n",
       "    <tr>\n",
       "      <th>4</th>\n",
       "      <td>20140207</td>\n",
       "      <td>201402</td>\n",
       "      <td>COFFEE</td>\n",
       "      <td>PARANAGUA</td>\n",
       "      <td>GIOIA TAURO</td>\n",
       "      <td>NAPOLI</td>\n",
       "      <td>IT</td>\n",
       "      <td>1</td>\n",
       "      <td>MEDITERRANEAN/BLACK SEA/CASPIAN SEA</td>\n",
       "      <td>MSC</td>\n",
       "      <td>MSC ARICA</td>\n",
       "      <td>FORTALEZA AGRO MERCANTIL LTDA</td>\n",
       "      <td>KIMBO SPA</td>\n",
       "      <td>0</td>\n",
       "      <td>99900</td>\n",
       "    </tr>\n",
       "    <tr>\n",
       "      <th>5</th>\n",
       "      <td>20140207</td>\n",
       "      <td>201402</td>\n",
       "      <td>COFFEE</td>\n",
       "      <td>PARANAGUA</td>\n",
       "      <td>GIOIA TAURO</td>\n",
       "      <td>NAPOLI</td>\n",
       "      <td>IT</td>\n",
       "      <td>1</td>\n",
       "      <td>MEDITERRANEAN/BLACK SEA/CASPIAN SEA</td>\n",
       "      <td>MSC</td>\n",
       "      <td>MSC ARICA</td>\n",
       "      <td>FORTALEZA AGRO MERCANTIL LTDA</td>\n",
       "      <td>KIMBO SPA</td>\n",
       "      <td>0</td>\n",
       "      <td>99900</td>\n",
       "    </tr>\n",
       "    <tr>\n",
       "      <th>6</th>\n",
       "      <td>20140207</td>\n",
       "      <td>201402</td>\n",
       "      <td>COFFEE</td>\n",
       "      <td>PARANAGUA</td>\n",
       "      <td>GIOIA TAURO</td>\n",
       "      <td>NAPOLI</td>\n",
       "      <td>IT</td>\n",
       "      <td>1</td>\n",
       "      <td>MEDITERRANEAN/BLACK SEA/CASPIAN SEA</td>\n",
       "      <td>MSC</td>\n",
       "      <td>MSC ARICA</td>\n",
       "      <td>FORTALEZA AGRO MERCANTIL LTDA</td>\n",
       "      <td>KIMBO SPA</td>\n",
       "      <td>0</td>\n",
       "      <td>99900</td>\n",
       "    </tr>\n",
       "    <tr>\n",
       "      <th>7</th>\n",
       "      <td>20140207</td>\n",
       "      <td>201402</td>\n",
       "      <td>COFFEE</td>\n",
       "      <td>PARANAGUA</td>\n",
       "      <td>GIOIA TAURO</td>\n",
       "      <td>NAPOLI</td>\n",
       "      <td>IT</td>\n",
       "      <td>1</td>\n",
       "      <td>MEDITERRANEAN/BLACK SEA/CASPIAN SEA</td>\n",
       "      <td>MSC</td>\n",
       "      <td>MSC ARICA</td>\n",
       "      <td>FORTALEZA AGRO MERCANTIL LTDA</td>\n",
       "      <td>KIMBO SPA</td>\n",
       "      <td>0</td>\n",
       "      <td>99900</td>\n",
       "    </tr>\n",
       "    <tr>\n",
       "      <th>8</th>\n",
       "      <td>20140221</td>\n",
       "      <td>201402</td>\n",
       "      <td>COFFEE</td>\n",
       "      <td>PARANAGUA</td>\n",
       "      <td>GIOIA TAURO</td>\n",
       "      <td>NAPOLI</td>\n",
       "      <td>IT</td>\n",
       "      <td>1</td>\n",
       "      <td>MEDITERRANEAN/BLACK SEA/CASPIAN SEA</td>\n",
       "      <td>MSC</td>\n",
       "      <td>MSC ATHOS</td>\n",
       "      <td>FORTALEZA AGRO MERCANTIL LTDA</td>\n",
       "      <td>KIMBO SPA</td>\n",
       "      <td>0</td>\n",
       "      <td>99900</td>\n",
       "    </tr>\n",
       "    <tr>\n",
       "      <th>9</th>\n",
       "      <td>20140212</td>\n",
       "      <td>201402</td>\n",
       "      <td>COFFEE</td>\n",
       "      <td>PORTO DE ITAGUAI</td>\n",
       "      <td>ANTWERPEN</td>\n",
       "      <td>ANTWERPEN</td>\n",
       "      <td>BE</td>\n",
       "      <td>1</td>\n",
       "      <td>ATLANTIC EUROPE/NORTH SEA/UK</td>\n",
       "      <td>MAERSK LINE</td>\n",
       "      <td>MSC BARCELONA</td>\n",
       "      <td>TRISTAO COMPANHIA DE COMERCIO EXTERIOR</td>\n",
       "      <td>NV COFFEETEAM SA</td>\n",
       "      <td>0</td>\n",
       "      <td>63000</td>\n",
       "    </tr>\n",
       "    <tr>\n",
       "      <th>10</th>\n",
       "      <td>20140224</td>\n",
       "      <td>201402</td>\n",
       "      <td>COFFEE</td>\n",
       "      <td>PORTO DE ITAGUAI</td>\n",
       "      <td>ANTWERPEN</td>\n",
       "      <td>ANTWERPEN</td>\n",
       "      <td>BE</td>\n",
       "      <td>1</td>\n",
       "      <td>ATLANTIC EUROPE/NORTH SEA/UK</td>\n",
       "      <td>MAERSK LINE</td>\n",
       "      <td>MSC KRYSTAL</td>\n",
       "      <td>TRISTAO COMPANHIA DE COMERCIO EXTERIOR</td>\n",
       "      <td>NV COFFEETEAM SA</td>\n",
       "      <td>0</td>\n",
       "      <td>63000</td>\n",
       "    </tr>\n",
       "  </tbody>\n",
       "</table>\n",
       "</div>"
      ],
      "text/plain": [
       "     ARRDATE  MONTH & YEAR COMMODITY DESCRIPTION        LOCAL PORT  \\\n",
       "0   20140214        201402               COFFEE          PARANAGUA   \n",
       "1   20140214        201402               COFFEE          PARANAGUA   \n",
       "2   20140207        201402               COFFEE          PARANAGUA   \n",
       "3   20140207        201402               COFFEE          PARANAGUA   \n",
       "4   20140207        201402               COFFEE          PARANAGUA   \n",
       "5   20140207        201402               COFFEE          PARANAGUA   \n",
       "6   20140207        201402               COFFEE          PARANAGUA   \n",
       "7   20140207        201402               COFFEE          PARANAGUA   \n",
       "8   20140221        201402               COFFEE          PARANAGUA   \n",
       "9   20140212        201402               COFFEE   PORTO DE ITAGUAI   \n",
       "10  20140224        201402               COFFEE   PORTO DE ITAGUAI   \n",
       "\n",
       "   TRANSHIPPORT FOREIGN PORT CODE COUNTRY  PRODUCTION REGION  \\\n",
       "0   GIOIA TAURO       NAPOLI           IT                  1   \n",
       "1   GIOIA TAURO       NAPOLI           IT                  1   \n",
       "2   GIOIA TAURO       NAPOLI           IT                  1   \n",
       "3   GIOIA TAURO       NAPOLI           IT                  1   \n",
       "4   GIOIA TAURO       NAPOLI           IT                  1   \n",
       "5   GIOIA TAURO       NAPOLI           IT                  1   \n",
       "6   GIOIA TAURO       NAPOLI           IT                  1   \n",
       "7   GIOIA TAURO       NAPOLI           IT                  1   \n",
       "8   GIOIA TAURO       NAPOLI           IT                  1   \n",
       "9     ANTWERPEN    ANTWERPEN           BE                  1   \n",
       "10    ANTWERPEN    ANTWERPEN           BE                  1   \n",
       "\n",
       "                              TRADELANE      CARRIER         VESSEL  \\\n",
       "0   MEDITERRANEAN/BLACK SEA/CASPIAN SEA          MSC    MSC ABIDJAN   \n",
       "1   MEDITERRANEAN/BLACK SEA/CASPIAN SEA          MSC    MSC ABIDJAN   \n",
       "2   MEDITERRANEAN/BLACK SEA/CASPIAN SEA          MSC      MSC ARICA   \n",
       "3   MEDITERRANEAN/BLACK SEA/CASPIAN SEA          MSC      MSC ARICA   \n",
       "4   MEDITERRANEAN/BLACK SEA/CASPIAN SEA          MSC      MSC ARICA   \n",
       "5   MEDITERRANEAN/BLACK SEA/CASPIAN SEA          MSC      MSC ARICA   \n",
       "6   MEDITERRANEAN/BLACK SEA/CASPIAN SEA          MSC      MSC ARICA   \n",
       "7   MEDITERRANEAN/BLACK SEA/CASPIAN SEA          MSC      MSC ARICA   \n",
       "8   MEDITERRANEAN/BLACK SEA/CASPIAN SEA          MSC      MSC ATHOS   \n",
       "9          ATLANTIC EUROPE/NORTH SEA/UK  MAERSK LINE  MSC BARCELONA   \n",
       "10         ATLANTIC EUROPE/NORTH SEA/UK  MAERSK LINE    MSC KRYSTAL   \n",
       "\n",
       "                              LOCAL TRADER    FOREIGN TRADER  QTY OF PACKAGES  \\\n",
       "0            FORTALEZA AGRO MERCANTIL LTDA         KIMBO SPA                0   \n",
       "1            FORTALEZA AGRO MERCANTIL LTDA         KIMBO SPA                0   \n",
       "2            FORTALEZA AGRO MERCANTIL LTDA         KIMBO SPA                0   \n",
       "3            FORTALEZA AGRO MERCANTIL LTDA         KIMBO SPA                0   \n",
       "4            FORTALEZA AGRO MERCANTIL LTDA         KIMBO SPA                0   \n",
       "5            FORTALEZA AGRO MERCANTIL LTDA         KIMBO SPA                0   \n",
       "6            FORTALEZA AGRO MERCANTIL LTDA         KIMBO SPA                0   \n",
       "7            FORTALEZA AGRO MERCANTIL LTDA         KIMBO SPA                0   \n",
       "8            FORTALEZA AGRO MERCANTIL LTDA         KIMBO SPA                0   \n",
       "9   TRISTAO COMPANHIA DE COMERCIO EXTERIOR  NV COFFEETEAM SA                0   \n",
       "10  TRISTAO COMPANHIA DE COMERCIO EXTERIOR  NV COFFEETEAM SA                0   \n",
       "\n",
       "    WEIGHT (KG)  \n",
       "0         59940  \n",
       "1         59940  \n",
       "2         99900  \n",
       "3         99900  \n",
       "4         99900  \n",
       "5         99900  \n",
       "6         99900  \n",
       "7         99900  \n",
       "8         99900  \n",
       "9         63000  \n",
       "10        63000  "
      ]
     },
     "execution_count": 9,
     "metadata": {},
     "output_type": "execute_result"
    }
   ],
   "source": [
    "df.head(11)"
   ]
  },
  {
   "cell_type": "markdown",
   "metadata": {},
   "source": [
    "### Creating Nodes dictionary"
   ]
  },
  {
   "cell_type": "code",
   "execution_count": 10,
   "metadata": {},
   "outputs": [],
   "source": [
    "node_types = ['LOCAL PORT',\n",
    "              'TRANSHIPPORT',\n",
    "              'FOREIGN PORT',\n",
    "              'PRODUCTION REGION',\n",
    "              'TRADELANE',\n",
    "              'CARRIER',\n",
    "              'LOCAL TRADER',\n",
    "              'FOREIGN TRADER']"
   ]
  },
  {
   "cell_type": "code",
   "execution_count": 11,
   "metadata": {},
   "outputs": [
    {
     "data": {
      "text/plain": [
       "512"
      ]
     },
     "execution_count": 11,
     "metadata": {},
     "output_type": "execute_result"
    }
   ],
   "source": [
    "df[node_types].nunique().sum()"
   ]
  },
  {
   "cell_type": "code",
   "execution_count": 12,
   "metadata": {},
   "outputs": [
    {
     "name": "stdout",
     "output_type": "stream",
     "text": [
      "[{'node_type': 'LOCAL PORT', 'node_name': 'PARANAGUA', 'node_id': 1}, {'node_type': 'TRADELANE', 'node_name': 'MEDITERRANEAN/BLACK SEA/CASPIAN SEA', 'node_id': 2}, {'node_type': 'FOREIGN TRADER', 'node_name': 'KIMBO SPA', 'node_id': 3}]\n"
     ]
    }
   ],
   "source": [
    "nodes = []\n",
    "added_so_far = []\n",
    "\n",
    "i = 1\n",
    "\n",
    "for record in df[node_types].to_dict(orient='records'):    \n",
    "    for n_type, name in record.items():\n",
    "        if name not in added_so_far:\n",
    "            nodes.append({'node_id': i, \"node_type\":n_type, 'node_name': name})\n",
    "            added_so_far.append(name)\n",
    "            i+=1\n",
    "\n",
    "print(nodes[:3])"
   ]
  },
  {
   "cell_type": "markdown",
   "metadata": {},
   "source": [
    "### Creating Flows dictionary"
   ]
  },
  {
   "cell_type": "code",
   "execution_count": 13,
   "metadata": {},
   "outputs": [],
   "source": [
    "def get_node_id(name, nodes):\n",
    "    for rec in nodes:\n",
    "        if rec[\"node_name\"] == name:\n",
    "            return rec[\"node_id\"]\n",
    "    print(\"Name not in nodes collection\")\n",
    "    return None"
   ]
  },
  {
   "cell_type": "code",
   "execution_count": 14,
   "metadata": {},
   "outputs": [],
   "source": [
    "flows = []\n",
    "node_types.append(\"WEIGHT (KG)\") #so we can extract volume from df\n",
    "\n",
    "for record in df[node_types].to_dict(orient='records'): \n",
    "    #each record is a dict entry in a list, and each dict item contains column:value pairs\n",
    "    flow = []\n",
    "    volume = 0\n",
    "    for n_type, val in record.items():\n",
    "        if n_type == \"WEIGHT (KG)\":\n",
    "            volume = val/1000.0 #divide by 1000kg to yield metric tons\n",
    "        else:\n",
    "            flow.append(get_node_id(val, nodes)) #looks up ID and appends it in order matching the column axis of df\n",
    "    flows.append({'path':flow, 'volume':volume})"
   ]
  },
  {
   "cell_type": "code",
   "execution_count": 15,
   "metadata": {},
   "outputs": [
    {
     "data": {
      "text/plain": [
       "[('path', [1, 2, 3, 4, 5, 6, 7, 8]), ('volume', 59.94)]"
      ]
     },
     "execution_count": 15,
     "metadata": {},
     "output_type": "execute_result"
    }
   ],
   "source": [
    "list(flows[0].items())"
   ]
  },
  {
   "cell_type": "markdown",
   "metadata": {},
   "source": [
    "### Aggregating the Volumes"
   ]
  },
  {
   "cell_type": "code",
   "execution_count": 16,
   "metadata": {},
   "outputs": [],
   "source": [
    "all_paths = []\n",
    "for rec in flows:\n",
    "    if rec['path'] not in all_paths:\n",
    "        all_paths.append(rec['path'])"
   ]
  },
  {
   "cell_type": "code",
   "execution_count": 17,
   "metadata": {},
   "outputs": [
    {
     "name": "stdout",
     "output_type": "stream",
     "text": [
      "[{'path': [1, 2, 3, 4, 5, 6, 7, 8], 'volume': 819.18}, {'path': [9, 10, 11, 12, 5, 13, 14, 13], 'volume': 126.0}, {'path': [9, 10, 15, 16, 5, 17, 7, 13], 'volume': 126.0}, {'path': [9, 18, 19, 20, 5, 21, 22, 21], 'volume': 96.8}, {'path': [9, 18, 23, 24, 5, 21, 7, 21], 'volume': 135.52}, {'path': [9, 18, 19, 20, 5, 21, 7, 21], 'volume': 96.8}, {'path': [9, 10, 25, 26, 5, 27, 7, 28], 'volume': 290.4}, {'path': [9, 29, 19, 20, 5, 30, 7, 31], 'volume': 473.628}, {'path': [9, 32, 23, 24, 5, 33, 7, 31], 'volume': 116.16}, {'path': [9, 32, 19, 20, 5, 33, 7, 31], 'volume': 302.498}]\n"
     ]
    }
   ],
   "source": [
    "agg_flows = []\n",
    "for path in all_paths:\n",
    "    agg_rec = {}\n",
    "    vol = 0\n",
    "    for rec in flows:\n",
    "        if path == rec['path']:\n",
    "            vol += rec['volume']\n",
    "    agg_flows.append({'path':path, 'volume':vol})\n",
    "print(agg_flows[:10])"
   ]
  },
  {
   "cell_type": "markdown",
   "metadata": {},
   "source": [
    "## Instantiating database, creating tables"
   ]
  },
  {
   "cell_type": "code",
   "execution_count": 19,
   "metadata": {},
   "outputs": [],
   "source": [
    "conn = pg2.connect(user=\"postgres\", host = \"localhost\", port = 5432, password = 'templar')\n",
    "conn.set_isolation_level(ISOLATION_LEVEL_AUTOCOMMIT)\n",
    "cur = conn.cursor()"
   ]
  },
  {
   "cell_type": "code",
   "execution_count": 95,
   "metadata": {},
   "outputs": [],
   "source": [
    "# createdb = \"\"\"\n",
    "# CREATE DATABASE SEI\n",
    "#     WITH OWNER = postgres\n",
    "#     ENCODING = 'UTF-8';\n",
    "# \"\"\"\n",
    "# cur.execute(createdb)"
   ]
  },
  {
   "cell_type": "code",
   "execution_count": 22,
   "metadata": {},
   "outputs": [
    {
     "name": "stdout",
     "output_type": "stream",
     "text": [
      "CREATE TYPE node_types AS ENUM ('LOCAL PORT', 'TRANSHIPPORT', 'FOREIGN PORT', 'PRODUCTION REGION', 'TRADELANE', 'CARRIER', 'LOCAL TRADER', 'FOREIGN TRADER')\n"
     ]
    }
   ],
   "source": [
    "# cur.execute(\"DROP TYPE node_types CASCADE\") #for recreating the enumerated type if needed\n",
    "mknodetypes = \"CREATE TYPE node_types AS ENUM {}\".format(tuple(node_types))\n",
    "print(mknodetypes)\n",
    "cur.execute(mknodetypes)"
   ]
  },
  {
   "cell_type": "markdown",
   "metadata": {},
   "source": [
    "#### Define tables"
   ]
  },
  {
   "cell_type": "code",
   "execution_count": 93,
   "metadata": {},
   "outputs": [],
   "source": [
    "mknodes = \"\"\"\n",
    "CREATE TABLE nodes (\n",
    "node_id INTEGER PRIMARY KEY,\n",
    "node_name TEXT,\n",
    "node_type node_types);\"\"\"\n",
    "\n",
    "mkflows = \"\"\"\n",
    "CREATE TABLE flows (\n",
    "path INTEGER[],\n",
    "volume numeric(6,2));\"\"\""
   ]
  },
  {
   "cell_type": "code",
   "execution_count": 128,
   "metadata": {},
   "outputs": [],
   "source": [
    "cur.execute(\"drop table nodes;\")\n",
    "cur.execute(\"drop table flows;\")\n",
    "cur.execute(mknodes)\n",
    "cur.execute(mkflows)"
   ]
  },
  {
   "cell_type": "markdown",
   "metadata": {},
   "source": [
    "#### A Note\n",
    "I attempted to create path as an integer array referncing node_id, but I could not figure out a way to do it within the assignment time limit, as it is, at least in any upfront and straigthforward way, [not possible (links to StackOverflow)](https://stackoverflow.com/questions/41054507/postgresql-array-of-elements-that-each-are-a-foreign-key)."
   ]
  },
  {
   "cell_type": "markdown",
   "metadata": {},
   "source": [
    "### Inserting data into tables"
   ]
  },
  {
   "cell_type": "code",
   "execution_count": 129,
   "metadata": {},
   "outputs": [],
   "source": [
    "cols = \", \".join([k for k in nodes[0].keys()])\n",
    "\n",
    "for record in nodes:\n",
    "    vals = \", \".join([str(v) for v in record.values()])\n",
    "    sql = \"INSERT INTO nodes({}) VALUES (%(node_id)s, %(node_name)s, %(node_type)s);\".format(cols)\n",
    "    cur.execute(sql, record)"
   ]
  },
  {
   "cell_type": "code",
   "execution_count": 130,
   "metadata": {},
   "outputs": [],
   "source": [
    "keys = [k for k in agg_flows[0].keys()]\n",
    "keys.sort()\n",
    "cols = \", \".join(keys)\n",
    "\n",
    "for record in agg_flows:\n",
    "    sql = \"INSERT INTO flows({}) VALUES (%(path)s, %(volume)s);\".format(cols)\n",
    "    cur.execute(sql, record)"
   ]
  },
  {
   "cell_type": "markdown",
   "metadata": {},
   "source": [
    "#### Checking that all looks well"
   ]
  },
  {
   "cell_type": "code",
   "execution_count": 131,
   "metadata": {},
   "outputs": [
    {
     "name": "stdout",
     "output_type": "stream",
     "text": [
      "10 Entries from the Nodes Table\n",
      "(1, 'GIOIA TAURO', 'TRANSHIPPORT')\n",
      "(2, 'NAPOLI', 'FOREIGN PORT')\n",
      "(3, 'MSC', 'CARRIER')\n",
      "(4, 'FORTALEZA AGRO MERCANTIL LTDA', 'LOCAL TRADER')\n",
      "(5, 'MEDITERRANEAN/BLACK SEA/CASPIAN SEA', 'TRADELANE')\n",
      "(6, '1', 'PRODUCTION REGION')\n",
      "(7, 'PARANAGUA', 'LOCAL PORT')\n",
      "(8, 'KIMBO SPA', 'FOREIGN TRADER')\n",
      "(9, 'ANTWERPEN', 'TRANSHIPPORT')\n",
      "(10, 'MAERSK LINE', 'CARRIER')\n",
      "\n",
      "10 Entries from the Flows Table\n",
      "([1, 2, 3, 4, 5, 6, 7, 8], Decimal('819.18'))\n",
      "([9, 9, 10, 11, 12, 6, 13, 14], Decimal('126.00'))\n",
      "([9, 15, 3, 16, 12, 6, 13, 17], Decimal('126.00'))\n",
      "([18, 18, 19, 20, 21, 6, 13, 22], Decimal('96.80'))\n",
      "([18, 18, 3, 23, 21, 6, 13, 24], Decimal('135.52'))\n",
      "([18, 18, 3, 20, 21, 6, 13, 22], Decimal('96.80'))\n",
      "([25, 26, 3, 27, 12, 6, 13, 28], Decimal('290.40'))\n",
      "([29, 30, 3, 20, 31, 6, 13, 22], Decimal('473.63'))\n",
      "([29, 32, 3, 23, 33, 6, 13, 24], Decimal('116.16'))\n",
      "([29, 32, 3, 20, 33, 6, 13, 22], Decimal('302.50'))\n"
     ]
    }
   ],
   "source": [
    "cur.execute(\"SELECT * FROM NODES LIMIT 10;\")\n",
    "print(\"10 Entries from the Nodes Table\")\n",
    "for row in cur.fetchall():\n",
    "    print(row)\n",
    "print(\"\\n10 Entries from the Flows Table\")\n",
    "cur.execute(\"Select path, volume from flows limit 10;\")\n",
    "for row in cur.fetchall():\n",
    "    print(row)"
   ]
  },
  {
   "cell_type": "markdown",
   "metadata": {},
   "source": [
    "And that seems to have done the trick! When I visually compare the volumes alongside matching paths in the dictionaries, they match!\n",
    "\n",
    "Originally, just to show that I could do it, I inserted the unaggregated flows dictionary in the flows table, and I created an aggregation table in PSQL, but this led to an intractable problem--the GROUP BY statement needed to compute sums of volumes for a given path invariably scrambled the path when written to a new table. I spent a great deal of time trying to debug that issue programmatically, but could not arrive at a solution without jeopardizing the intregrity of the date in the flow table as it is. \n",
    "\n",
    "Though it chagrins me to do so, I have opted to halt here."
   ]
  },
  {
   "cell_type": "code",
   "execution_count": 139,
   "metadata": {},
   "outputs": [],
   "source": [
    "import csv\n",
    "import sys\n",
    "with open(\"nodes.csv\", \"w\") as out:\n",
    "    outputquery = \"COPY (SELECT * FROM nodes) TO STDOUT WITH CSV HEADER\"\n",
    "    cur.copy_expert(outputquery, out)"
   ]
  },
  {
   "cell_type": "code",
   "execution_count": 140,
   "metadata": {},
   "outputs": [],
   "source": [
    "with open(\"flows.csv\", \"w\") as out:\n",
    "    outputquery = \"COPY (SELECT * FROM flows) TO STDOUT WITH CSV HEADER\"\n",
    "    cur.copy_expert(outputquery, out)"
   ]
  },
  {
   "cell_type": "markdown",
   "metadata": {},
   "source": [
    "With the above commands, I have created two output tables, and I have also used the pg_dump program to extract the database as a text file."
   ]
  },
  {
   "cell_type": "code",
   "execution_count": 20,
   "metadata": {},
   "outputs": [],
   "source": [
    "cur.close()\n",
    "conn.close()"
   ]
  },
  {
   "cell_type": "markdown",
   "metadata": {},
   "source": [
    "### Final Discussion\n",
    "Much of what has been done above with regards to aggregating and checking could have been done in pandas using filtering methods, but I decided to go with pure Python given that the paths are represented as arrays of integers. I could also have done much of the table and database management using the psql terminal, but I thought it would be more convenient to present everything in a single jupyter notebook. Though the steps taken are not strictly in order, as I backtracked a number of times to rerun certain cells as I debugged, the overall flow of this notebook is pretty true to the steps that would be needed to arrive at the same results, from start to finish."
   ]
  }
 ],
 "metadata": {
  "kernelspec": {
   "display_name": "Python [default]",
   "language": "python",
   "name": "python3"
  },
  "language_info": {
   "codemirror_mode": {
    "name": "ipython",
    "version": 3
   },
   "file_extension": ".py",
   "mimetype": "text/x-python",
   "name": "python",
   "nbconvert_exporter": "python",
   "pygments_lexer": "ipython3",
   "version": "3.5.4"
  }
 },
 "nbformat": 4,
 "nbformat_minor": 2
}
