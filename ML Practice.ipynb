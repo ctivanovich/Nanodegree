{
 "cells": [
  {
   "cell_type": "code",
   "execution_count": 92,
   "metadata": {},
   "outputs": [
    {
     "name": "stdout",
     "output_type": "stream",
     "text": [
      "cancer.keys(): /ndict_keys(['feature_names', 'DESCR', 'data', 'target', 'target_names'])\n"
     ]
    }
   ],
   "source": [
    "from sklearn.datasets import load_breast_cancer, load_boston\n",
    "\n",
    "cancer = load_breast_cancer()\n",
    "print('cancer.keys(): /n{}'.format(cancer.keys()))"
   ]
  },
  {
   "cell_type": "code",
   "execution_count": 93,
   "metadata": {},
   "outputs": [
    {
     "name": "stdout",
     "output_type": "stream",
     "text": [
      "shape of cancer is (569, 30)\n",
      "Sample counts per class: \n",
      "{'benign': 357, 'malignant': 212}\n"
     ]
    }
   ],
   "source": [
    "print('shape of cancer is {}'.format(cancer.data.shape))\n",
    "print('Sample counts per class: \\n{}'.format({n: v for n,v in zip(cancer.target_names, np.bincount(cancer.target))}))"
   ]
  },
  {
   "cell_type": "code",
   "execution_count": 94,
   "metadata": {
    "scrolled": true
   },
   "outputs": [
    {
     "data": {
      "text/plain": [
       "(569,)"
      ]
     },
     "execution_count": 94,
     "metadata": {},
     "output_type": "execute_result"
    }
   ],
   "source": [
    "cancer.target.shape"
   ]
  },
  {
   "cell_type": "code",
   "execution_count": 95,
   "metadata": {
    "collapsed": true
   },
   "outputs": [],
   "source": [
    "#custom test train split function\n",
    "def test_train_split(ndmatrix, test_size = .3):\n",
    "    import numpy as np\n",
    "    rows = ndmatrix.data.shape[0]\n",
    "    rand_inx = np.random.choice(range(rows), rows, False) #another strategy, randomize everything, then just split by position\n",
    "    data = ndmatrix.data[rand_inx]\n",
    "    target = ndmatrix.target[rand_inx]\n",
    "    split_inx = int(rows*test_size)\n",
    "    X_train, X_test = data[split_inx:], data[:split_inx]\n",
    "    y_train, y_test = target[split_inx:], target[:split_inx]\n",
    "    return X_train, y_train, X_test, y_test"
   ]
  },
  {
   "cell_type": "code",
   "execution_count": 120,
   "metadata": {},
   "outputs": [
    {
     "name": "stdout",
     "output_type": "stream",
     "text": [
      "SVC scores: \n",
      "0.6235294117647059\n",
      "Naive Bayes scores: \n",
      "0.9176470588235294\n"
     ]
    }
   ],
   "source": [
    "from sklearn.naive_bayes import GaussianNB\n",
    "from sklearn.svm import SVC\n",
    "\n",
    "svc = SVC(C=.001)\n",
    "svc.fit(X_train, y_train)\n",
    "\n",
    "print(\"SVC scores: \\n{}\".format(svc.score(X_test, y_test)))\n",
    "\n",
    "X_train, y_train, X_test, y_test = test_train_split(cancer)\n",
    "nb = GaussianNB()\n",
    "nb.fit(X_train, y_train)\n",
    "print(\"Naive Bayes scores: \\n{}\".format(nb.score(X_test, y_test)))\n"
   ]
  },
  {
   "cell_type": "code",
   "execution_count": 91,
   "metadata": {},
   "outputs": [
    {
     "name": "stdout",
     "output_type": "stream",
     "text": [
      "399 170\n"
     ]
    }
   ],
   "source": [
    "print(len(X_train),len(X_test))"
   ]
  },
  {
   "cell_type": "code",
   "execution_count": null,
   "metadata": {
    "collapsed": true
   },
   "outputs": [],
   "source": []
  }
 ],
 "metadata": {
  "kernelspec": {
   "display_name": "Python 3",
   "language": "python",
   "name": "python3"
  },
  "language_info": {
   "codemirror_mode": {
    "name": "ipython",
    "version": 3
   },
   "file_extension": ".py",
   "mimetype": "text/x-python",
   "name": "python",
   "nbconvert_exporter": "python",
   "pygments_lexer": "ipython3",
   "version": "3.5.4"
  }
 },
 "nbformat": 4,
 "nbformat_minor": 2
}
