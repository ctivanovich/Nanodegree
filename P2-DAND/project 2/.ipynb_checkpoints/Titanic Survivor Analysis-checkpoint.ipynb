{
 "cells": [
  {
   "cell_type": "markdown",
   "metadata": {
    "deletable": true,
    "editable": true
   },
   "source": [
    "# An analysis of survivors from the ill-fated Titanic's maiden voyage.\n",
    "\n",
    "Initial questions regarding survival likelihood between different groups of passengers:\n",
    "1. How do survival and mortality vary with regard to economic strata?\n",
    "2. How does it vary across gender? \n",
    "3. Across age?\n",
    "\n",
    "But, before we can go further into these questions, we must acquire some baseline population parameters against which we can draw later comparisons."
   ]
  },
  {
   "cell_type": "code",
   "execution_count": 1,
   "metadata": {
    "collapsed": false,
    "deletable": true,
    "editable": true
   },
   "outputs": [
    {
     "name": "stdout",
     "output_type": "stream",
     "text": [
      "Populating the interactive namespace from numpy and matplotlib\n"
     ]
    },
    {
     "name": "stderr",
     "output_type": "stream",
     "text": [
      "C:\\Anaconda3\\lib\\site-packages\\numpy\\lib\\function_base.py:3403: RuntimeWarning: Invalid value encountered in median\n",
      "  RuntimeWarning)\n"
     ]
    },
    {
     "data": {
      "text/html": [
       "<div>\n",
       "<table border=\"1\" class=\"dataframe\">\n",
       "  <thead>\n",
       "    <tr style=\"text-align: right;\">\n",
       "      <th></th>\n",
       "      <th>PassengerId</th>\n",
       "      <th>Survived</th>\n",
       "      <th>Pclass</th>\n",
       "      <th>Age</th>\n",
       "      <th>SibSp</th>\n",
       "      <th>Parch</th>\n",
       "      <th>Fare</th>\n",
       "    </tr>\n",
       "  </thead>\n",
       "  <tbody>\n",
       "    <tr>\n",
       "      <th>count</th>\n",
       "      <td>891.000000</td>\n",
       "      <td>891.000000</td>\n",
       "      <td>891.000000</td>\n",
       "      <td>714.000000</td>\n",
       "      <td>891.000000</td>\n",
       "      <td>891.000000</td>\n",
       "      <td>891.000000</td>\n",
       "    </tr>\n",
       "    <tr>\n",
       "      <th>mean</th>\n",
       "      <td>446.000000</td>\n",
       "      <td>0.383838</td>\n",
       "      <td>2.308642</td>\n",
       "      <td>29.699118</td>\n",
       "      <td>0.523008</td>\n",
       "      <td>0.381594</td>\n",
       "      <td>32.204208</td>\n",
       "    </tr>\n",
       "    <tr>\n",
       "      <th>std</th>\n",
       "      <td>257.353842</td>\n",
       "      <td>0.486592</td>\n",
       "      <td>0.836071</td>\n",
       "      <td>14.526497</td>\n",
       "      <td>1.102743</td>\n",
       "      <td>0.806057</td>\n",
       "      <td>49.693429</td>\n",
       "    </tr>\n",
       "    <tr>\n",
       "      <th>min</th>\n",
       "      <td>1.000000</td>\n",
       "      <td>0.000000</td>\n",
       "      <td>1.000000</td>\n",
       "      <td>0.420000</td>\n",
       "      <td>0.000000</td>\n",
       "      <td>0.000000</td>\n",
       "      <td>0.000000</td>\n",
       "    </tr>\n",
       "    <tr>\n",
       "      <th>25%</th>\n",
       "      <td>223.500000</td>\n",
       "      <td>0.000000</td>\n",
       "      <td>2.000000</td>\n",
       "      <td>NaN</td>\n",
       "      <td>0.000000</td>\n",
       "      <td>0.000000</td>\n",
       "      <td>7.910400</td>\n",
       "    </tr>\n",
       "    <tr>\n",
       "      <th>50%</th>\n",
       "      <td>446.000000</td>\n",
       "      <td>0.000000</td>\n",
       "      <td>3.000000</td>\n",
       "      <td>NaN</td>\n",
       "      <td>0.000000</td>\n",
       "      <td>0.000000</td>\n",
       "      <td>14.454200</td>\n",
       "    </tr>\n",
       "    <tr>\n",
       "      <th>75%</th>\n",
       "      <td>668.500000</td>\n",
       "      <td>1.000000</td>\n",
       "      <td>3.000000</td>\n",
       "      <td>NaN</td>\n",
       "      <td>1.000000</td>\n",
       "      <td>0.000000</td>\n",
       "      <td>31.000000</td>\n",
       "    </tr>\n",
       "    <tr>\n",
       "      <th>max</th>\n",
       "      <td>891.000000</td>\n",
       "      <td>1.000000</td>\n",
       "      <td>3.000000</td>\n",
       "      <td>80.000000</td>\n",
       "      <td>8.000000</td>\n",
       "      <td>6.000000</td>\n",
       "      <td>512.329200</td>\n",
       "    </tr>\n",
       "  </tbody>\n",
       "</table>\n",
       "</div>"
      ],
      "text/plain": [
       "       PassengerId    Survived      Pclass         Age       SibSp  \\\n",
       "count   891.000000  891.000000  891.000000  714.000000  891.000000   \n",
       "mean    446.000000    0.383838    2.308642   29.699118    0.523008   \n",
       "std     257.353842    0.486592    0.836071   14.526497    1.102743   \n",
       "min       1.000000    0.000000    1.000000    0.420000    0.000000   \n",
       "25%     223.500000    0.000000    2.000000         NaN    0.000000   \n",
       "50%     446.000000    0.000000    3.000000         NaN    0.000000   \n",
       "75%     668.500000    1.000000    3.000000         NaN    1.000000   \n",
       "max     891.000000    1.000000    3.000000   80.000000    8.000000   \n",
       "\n",
       "            Parch        Fare  \n",
       "count  891.000000  891.000000  \n",
       "mean     0.381594   32.204208  \n",
       "std      0.806057   49.693429  \n",
       "min      0.000000    0.000000  \n",
       "25%      0.000000    7.910400  \n",
       "50%      0.000000   14.454200  \n",
       "75%      0.000000   31.000000  \n",
       "max      6.000000  512.329200  "
      ]
     },
     "execution_count": 1,
     "metadata": {},
     "output_type": "execute_result"
    }
   ],
   "source": [
    "import pandas as pd\n",
    "import numpy as np\n",
    "import seaborn as sbn\n",
    "%pylab inline\n",
    "import matplotlib.pyplot as plt\n",
    "\n",
    "df = pd.read_csv(\"titanic-data.csv\")\n",
    "df.describe()"
   ]
  },
  {
   "cell_type": "markdown",
   "metadata": {
    "deletable": true,
    "editable": true
   },
   "source": [
    "We see immediately that some NaNs have been propagated through in the Age field, preventing our description function from generating quartile output. We make note of this, and will be sure to drop any NaNs from age-related calculations."
   ]
  },
  {
   "cell_type": "code",
   "execution_count": 2,
   "metadata": {
    "collapsed": false,
    "deletable": true,
    "editable": true
   },
   "outputs": [
    {
     "data": {
      "text/plain": [
       "Index(['PassengerId', 'Survived', 'Pclass', 'Name', 'Sex', 'Age', 'SibSp',\n",
       "       'Parch', 'Ticket', 'Fare', 'Cabin', 'Embarked'],\n",
       "      dtype='object')"
      ]
     },
     "execution_count": 2,
     "metadata": {},
     "output_type": "execute_result"
    }
   ],
   "source": [
    "df.columns"
   ]
  },
  {
   "cell_type": "code",
   "execution_count": 3,
   "metadata": {
    "collapsed": false,
    "deletable": true,
    "editable": true
   },
   "outputs": [
    {
     "name": "stdout",
     "output_type": "stream",
     "text": [
      "549 passengers lost their lives, while 342 survived.\n"
     ]
    }
   ],
   "source": [
    "survivors = df[df.Survived==1]\n",
    "dead = df[df.Survived==0]\n",
    "print(str(len(dead)) + \" passengers lost their lives, while \" + str(len(survivors)) + \" survived.\")"
   ]
  },
  {
   "cell_type": "markdown",
   "metadata": {
    "deletable": true,
    "editable": true
   },
   "source": [
    "# Of the 892 embarkees, only 342 survived the ship's capsizing, a survival rate of about 38%.\n",
    "\n",
    "From our basic descriptives stats table, we see an average age of 29.70, with an age range of 79.58 years across all passengers for which there are age data. The average ticket holder appears to be slightly above the 2nd ticket class.\n",
    "\n"
   ]
  },
  {
   "cell_type": "code",
   "execution_count": 4,
   "metadata": {
    "collapsed": false,
    "deletable": true,
    "editable": true
   },
   "outputs": [
    {
     "name": "stdout",
     "output_type": "stream",
     "text": [
      "Of the male passengers, 109 out of 577 survived, or roughly 1 in 5.\n",
      "Of the female passengers, 233 out of 314 survived, or roughly 2 in 3.\n"
     ]
    }
   ],
   "source": [
    "males = survivors[survivors[\"Sex\"]==\"male\"]\n",
    "females = survivors[survivors[\"Sex\"]==\"female\"]\n",
    "print(\"Of the male passengers, {0} out of {1} survived, or roughly 1 in 5.\"\n",
    "      .format(str(len(males)),str(len(df[df[\"Sex\"]==\"male\"]))))\n",
    "print(\"Of the female passengers, {0} out of {1} survived, or roughly 2 in 3.\"\n",
    "      .format(str(len(females)),str(len(df[df[\"Sex\"]==\"female\"]))))"
   ]
  },
  {
   "cell_type": "code",
   "execution_count": 12,
   "metadata": {
    "collapsed": false,
    "deletable": true,
    "editable": true
   },
   "outputs": [
    {
     "data": {
      "image/png": "[encoded data removed]",
      "text/plain": [
       "<matplotlib.figure.Figure at 0x27ba9e92c88>"
      ]
     },
     "metadata": {},
     "output_type": "display_data"
    }
   ],
   "source": [
    "import matplotlib.pyplot as plt\n",
    "plt.title(\"Surival by gender\")\n",
    "plt.hist(males.Age.dropna(), alpha=.5)\n",
    "plt.hist(females.Age.dropna(), alpha=.3)\n",
    "plt.legend([\"Male Surviors\",\"Female Survivors\"])\n",
    "plt.xlabel(\"Age\"); plt.ylabel(\"Frequency\")\n",
    "plt.show()"
   ]
  },
  {
   "cell_type": "markdown",
   "metadata": {
    "collapsed": false,
    "deletable": true,
    "editable": true
   },
   "source": [
    "We see above that a major determinant of survivability seems to have been gender, with women far more likely to survive than men (on the Titanic, it appears that \"women and children first!\" was truly in effect). Children of both genders appear to have done well, but without comparing the ratio of survivors by age to the total in an age group, it is difficult to say that one age group fared better than another.\n",
    "\n",
    "Thus, below, we introduce a column of age ranges for passengers, with ages split into groups that might have bearing on passenger survivability. We define an age range of 0-14 for \"children first\", and subsequent ranges according to what are commonly regarded as life's stages.\n"
   ]
  },
  {
   "cell_type": "code",
   "execution_count": 6,
   "metadata": {
    "collapsed": false,
    "deletable": true,
    "editable": true
   },
   "outputs": [
    {
     "data": {
      "text/html": [
       "<div>\n",
       "<table border=\"1\" class=\"dataframe\">\n",
       "  <thead>\n",
       "    <tr style=\"text-align: right;\">\n",
       "      <th></th>\n",
       "      <th>Survival proportion</th>\n",
       "      <th>Number of survivors</th>\n",
       "      <th>Total passengers</th>\n",
       "    </tr>\n",
       "  </thead>\n",
       "  <tbody>\n",
       "    <tr>\n",
       "      <th>0-14</th>\n",
       "      <td>0.584416</td>\n",
       "      <td>45</td>\n",
       "      <td>77</td>\n",
       "    </tr>\n",
       "    <tr>\n",
       "      <th>15-25</th>\n",
       "      <td>0.352679</td>\n",
       "      <td>79</td>\n",
       "      <td>224</td>\n",
       "    </tr>\n",
       "    <tr>\n",
       "      <th>26-40</th>\n",
       "      <td>0.422053</td>\n",
       "      <td>111</td>\n",
       "      <td>263</td>\n",
       "    </tr>\n",
       "    <tr>\n",
       "      <th>41-55</th>\n",
       "      <td>0.390909</td>\n",
       "      <td>43</td>\n",
       "      <td>110</td>\n",
       "    </tr>\n",
       "    <tr>\n",
       "      <th>56-75</th>\n",
       "      <td>0.282051</td>\n",
       "      <td>11</td>\n",
       "      <td>39</td>\n",
       "    </tr>\n",
       "    <tr>\n",
       "      <th>75+</th>\n",
       "      <td>1.000000</td>\n",
       "      <td>1</td>\n",
       "      <td>1</td>\n",
       "    </tr>\n",
       "  </tbody>\n",
       "</table>\n",
       "</div>"
      ],
      "text/plain": [
       "       Survival proportion  Number of survivors  Total passengers\n",
       "0-14              0.584416                   45                77\n",
       "15-25             0.352679                   79               224\n",
       "26-40             0.422053                  111               263\n",
       "41-55             0.390909                   43               110\n",
       "56-75             0.282051                   11                39\n",
       "75+               1.000000                    1                 1"
      ]
     },
     "execution_count": 6,
     "metadata": {},
     "output_type": "execute_result"
    }
   ],
   "source": [
    "age_ranges = pd.cut(df.Age, [0, 14, 25, 40, 55, 75, 100], labels = [\"0-14\", \"15-25\", \"26-40\", \"41-55\", \"56-75\", \"75+\"])\n",
    "df[\"age_range\"]= age_ranges\n",
    "survived = df[df.Survived==1]\n",
    "rates = survived.age_range.value_counts()/df.age_range.value_counts()\n",
    "#counting survivors by age group, dividing by total passengers in that age group.\n",
    "survival_groups = pd.DataFrame(rates)\n",
    "survival_groups.rename(columns={\"age_range\": \"Survival proportion\"}, inplace=True)\n",
    "survival_groups[\"Number of survivors\"]=survived.age_range.value_counts()\n",
    "survival_groups[\"Total passengers\"]=df.age_range.value_counts()\n",
    "survival_groups"
   ]
  },
  {
   "cell_type": "code",
   "execution_count": 13,
   "metadata": {
    "collapsed": false,
    "deletable": true,
    "editable": true
   },
   "outputs": [
    {
     "data": {
      "text/plain": [
       "<matplotlib.legend.Legend at 0x27baa52a908>"
      ]
     },
     "execution_count": 13,
     "metadata": {},
     "output_type": "execute_result"
    },
    {
     "data": {
      "image/png": "[encoded data removed]",
      "text/plain": [
       "<matplotlib.figure.Figure at 0x27baa4eae10>"
      ]
     },
     "metadata": {},
     "output_type": "display_data"
    }
   ],
   "source": [
    "# plt.hist(survival_groups)\n",
    "fig, ax = plt.subplots()\n",
    "idx = np.arange(len(survival_groups))\n",
    "barwidth = .35\n",
    "ax.bar(idx, survival_groups[\"Number of survivors\"], \n",
    "                width=barwidth, color='b')\n",
    "ax.bar(idx+barwidth, survival_groups[\"Total passengers\"]-survival_groups[\"Number of survivors\"],\n",
    "       width=barwidth, color='r', alpha=.5)\n",
    "plt.xticks(idx + barwidth / 2, survival_groups.index)\n",
    "plt.xlabel(\"Age range\"); plt.ylabel(\"Number of passengers\")\n",
    "plt.title(\"Survivorship among age groups\")\n",
    "plt.legend([\"Survivors\", \"Deceased\"])"
   ]
  },
  {
   "cell_type": "markdown",
   "metadata": {
    "deletable": true,
    "editable": true
   },
   "source": [
    "Not counting the elderly outlier painfully obvious in the above bar chart, the previous table indicate that children aged 0-14 years old had a survival rate of 58%, the highest of any age group as they are defined here. The next highest group contains those aged from 26-40 years old.\n",
    "\n",
    "The logic of defining \"children\" as being between 0-14 years old is based on the common definition of a child's age range. The subsequent groups reflect assumptions about relative health and fitness, but it is interesting that the group, 26-40, had a substantially higher survival rate than those aged 15-25.\n",
    "\n",
    "I theorize that passengers of means (i.e. those inhabiting a higher economic stratum) skewed older than those of lesser means, with a wealth and age gap not unlike that which we see ballooning in today's America. I would expect to see that a higher proportion of passengers in the 26-40 group are in the highest class category, as compared to those aged 15-25."
   ]
  },
  {
   "cell_type": "code",
   "execution_count": 8,
   "metadata": {
    "collapsed": false,
    "deletable": true,
    "editable": true
   },
   "outputs": [
    {
     "name": "stdout",
     "output_type": "stream",
     "text": [
      "Survived\n",
      "0    2.531876\n",
      "1    1.950292\n",
      "Name: Survival Class Mean, dtype: float64\n",
      "Survived\n",
      "0    549\n",
      "1    342\n",
      "Name: Survival class Count, dtype: int64\n",
      "248\n"
     ]
    }
   ],
   "source": [
    "mean_class_by_age_group = df.groupby(\"Survived\")[\"Pclass\"].mean().rename(\"Survival Class Mean\") ##1, 2, 3 for pclass\n",
    "mean_count_by_ticket_class = df.groupby(\"Survived\")[\"Pclass\"].count().rename(\"Survival class Count\")\n",
    "print(mean_class_by_age_group)\n",
    "print(mean_count_by_ticket_class)\n",
    "print(len(df.groupby(\"Fare\")))"
   ]
  },
  {
   "cell_type": "markdown",
   "metadata": {
    "deletable": true,
    "editable": true
   },
   "source": [
    "Not terribly surprising results, though perhaps in need of inferential analysis for further support. Based on a simple mean of only three possible values (thus, no outliers) which reflect the class category of a ticket (1st, 2nd, and 3rd class), we see that the mean ticket class for those who did not survive is about 2.53. More tellingly, those who survived had a mean ticket class of 1.95. As we saw in our initial descriptive statistics query of the total dataset, the mean for the entire population is about 2.38, midway been the means for survivors and non-survivors. Is this difference between the population class mean and survival class mean due to random chance?"
   ]
  },
  {
   "cell_type": "code",
   "execution_count": 9,
   "metadata": {
    "collapsed": false,
    "deletable": true,
    "editable": true
   },
   "outputs": [
    {
     "data": {
      "text/plain": [
       "(Pclass\n",
       " 1    216\n",
       " 2    184\n",
       " 3    491\n",
       " dtype: int64, Pclass\n",
       " 1    136\n",
       " 2     87\n",
       " 3    119\n",
       " dtype: int64)"
      ]
     },
     "execution_count": 9,
     "metadata": {},
     "output_type": "execute_result"
    }
   ],
   "source": [
    "import scipy.stats as ss #ss.ttest_ind, ss.zscore\n",
    "\n",
    "living_classes = df[df[\"Survived\"]==1].groupby([\"Pclass\"]).size()\n",
    "all_classes = df.groupby([\"Pclass\"]).size()\n",
    "# ss.chisquare(all_classes, living_classes)\n",
    "all_classes, living_classes"
   ]
  },
  {
   "cell_type": "markdown",
   "metadata": {
    "deletable": true,
    "editable": true
   },
   "source": [
    "We note that the sum of values for the survivors class counts is 342: matching our previous value, this tells us that there were no pesky NaNs left out by our analysis.\n",
    "\n",
    "What do the results of this chi-square test, in which we compare the membership in particular class categories of the population against our group of survivors (treating the survivors as a randomly sample drawn from the population), suggest to us? Given the absurdly small p-value (10^-287 is essentially the accumulation of computation error), the chi-square test tells us that the deviation from the population distribution is almost certainly not due to random chance: One's particular class seems to have impacted one's ability to survive, all else being equal.\n",
    "\n",
    "Given the larger number of people who did not make it to the infamously inadequate number of lifeboats, we expect perhaps to see larger variation throughout the population of those who did not survive as opposed to those who did. We certainly expect to see less variation among survivers with regard to ticket class."
   ]
  },
  {
   "cell_type": "code",
   "execution_count": 10,
   "metadata": {
    "collapsed": false,
    "deletable": true,
    "editable": true
   },
   "outputs": [
    {
     "data": {
      "text/html": [
       "<div>\n",
       "<table border=\"1\" class=\"dataframe\">\n",
       "  <thead>\n",
       "    <tr style=\"text-align: right;\">\n",
       "      <th></th>\n",
       "      <th></th>\n",
       "      <th></th>\n",
       "      <th>Age</th>\n",
       "      <th>Fare</th>\n",
       "    </tr>\n",
       "    <tr>\n",
       "      <th>Survived</th>\n",
       "      <th>Pclass</th>\n",
       "      <th></th>\n",
       "      <th></th>\n",
       "      <th></th>\n",
       "    </tr>\n",
       "  </thead>\n",
       "  <tbody>\n",
       "    <tr>\n",
       "      <th rowspan=\"24\" valign=\"top\">0</th>\n",
       "      <th rowspan=\"8\" valign=\"top\">1</th>\n",
       "      <th>count</th>\n",
       "      <td>61.000000</td>\n",
       "      <td>61.000000</td>\n",
       "    </tr>\n",
       "    <tr>\n",
       "      <th>mean</th>\n",
       "      <td>43.926230</td>\n",
       "      <td>70.668918</td>\n",
       "    </tr>\n",
       "    <tr>\n",
       "      <th>std</th>\n",
       "      <td>15.623656</td>\n",
       "      <td>58.388264</td>\n",
       "    </tr>\n",
       "    <tr>\n",
       "      <th>min</th>\n",
       "      <td>2.000000</td>\n",
       "      <td>5.000000</td>\n",
       "    </tr>\n",
       "    <tr>\n",
       "      <th>25%</th>\n",
       "      <td>31.000000</td>\n",
       "      <td>30.000000</td>\n",
       "    </tr>\n",
       "    <tr>\n",
       "      <th>50%</th>\n",
       "      <td>46.000000</td>\n",
       "      <td>52.000000</td>\n",
       "    </tr>\n",
       "    <tr>\n",
       "      <th>75%</th>\n",
       "      <td>56.000000</td>\n",
       "      <td>79.650000</td>\n",
       "    </tr>\n",
       "    <tr>\n",
       "      <th>max</th>\n",
       "      <td>71.000000</td>\n",
       "      <td>263.000000</td>\n",
       "    </tr>\n",
       "    <tr>\n",
       "      <th rowspan=\"8\" valign=\"top\">2</th>\n",
       "      <th>count</th>\n",
       "      <td>90.000000</td>\n",
       "      <td>90.000000</td>\n",
       "    </tr>\n",
       "    <tr>\n",
       "      <th>mean</th>\n",
       "      <td>33.544444</td>\n",
       "      <td>20.754953</td>\n",
       "    </tr>\n",
       "    <tr>\n",
       "      <th>std</th>\n",
       "      <td>12.151581</td>\n",
       "      <td>15.009893</td>\n",
       "    </tr>\n",
       "    <tr>\n",
       "      <th>min</th>\n",
       "      <td>16.000000</td>\n",
       "      <td>10.500000</td>\n",
       "    </tr>\n",
       "    <tr>\n",
       "      <th>25%</th>\n",
       "      <td>25.000000</td>\n",
       "      <td>12.906250</td>\n",
       "    </tr>\n",
       "    <tr>\n",
       "      <th>50%</th>\n",
       "      <td>30.500000</td>\n",
       "      <td>13.000000</td>\n",
       "    </tr>\n",
       "    <tr>\n",
       "      <th>75%</th>\n",
       "      <td>39.000000</td>\n",
       "      <td>26.000000</td>\n",
       "    </tr>\n",
       "    <tr>\n",
       "      <th>max</th>\n",
       "      <td>70.000000</td>\n",
       "      <td>73.500000</td>\n",
       "    </tr>\n",
       "    <tr>\n",
       "      <th rowspan=\"8\" valign=\"top\">3</th>\n",
       "      <th>count</th>\n",
       "      <td>267.000000</td>\n",
       "      <td>267.000000</td>\n",
       "    </tr>\n",
       "    <tr>\n",
       "      <th>mean</th>\n",
       "      <td>26.464419</td>\n",
       "      <td>13.328104</td>\n",
       "    </tr>\n",
       "    <tr>\n",
       "      <th>std</th>\n",
       "      <td>12.305007</td>\n",
       "      <td>9.988838</td>\n",
       "    </tr>\n",
       "    <tr>\n",
       "      <th>min</th>\n",
       "      <td>1.000000</td>\n",
       "      <td>4.012500</td>\n",
       "    </tr>\n",
       "    <tr>\n",
       "      <th>25%</th>\n",
       "      <td>19.000000</td>\n",
       "      <td>7.775000</td>\n",
       "    </tr>\n",
       "    <tr>\n",
       "      <th>50%</th>\n",
       "      <td>25.000000</td>\n",
       "      <td>8.050000</td>\n",
       "    </tr>\n",
       "    <tr>\n",
       "      <th>75%</th>\n",
       "      <td>33.000000</td>\n",
       "      <td>15.500000</td>\n",
       "    </tr>\n",
       "    <tr>\n",
       "      <th>max</th>\n",
       "      <td>74.000000</td>\n",
       "      <td>56.495800</td>\n",
       "    </tr>\n",
       "    <tr>\n",
       "      <th rowspan=\"24\" valign=\"top\">1</th>\n",
       "      <th rowspan=\"8\" valign=\"top\">1</th>\n",
       "      <th>count</th>\n",
       "      <td>122.000000</td>\n",
       "      <td>122.000000</td>\n",
       "    </tr>\n",
       "    <tr>\n",
       "      <th>mean</th>\n",
       "      <td>35.368197</td>\n",
       "      <td>98.770904</td>\n",
       "    </tr>\n",
       "    <tr>\n",
       "      <th>std</th>\n",
       "      <td>13.760017</td>\n",
       "      <td>88.572228</td>\n",
       "    </tr>\n",
       "    <tr>\n",
       "      <th>min</th>\n",
       "      <td>0.920000</td>\n",
       "      <td>25.929200</td>\n",
       "    </tr>\n",
       "    <tr>\n",
       "      <th>25%</th>\n",
       "      <td>24.250000</td>\n",
       "      <td>52.000000</td>\n",
       "    </tr>\n",
       "    <tr>\n",
       "      <th>50%</th>\n",
       "      <td>35.000000</td>\n",
       "      <td>77.958300</td>\n",
       "    </tr>\n",
       "    <tr>\n",
       "      <th>75%</th>\n",
       "      <td>45.000000</td>\n",
       "      <td>113.275000</td>\n",
       "    </tr>\n",
       "    <tr>\n",
       "      <th>max</th>\n",
       "      <td>80.000000</td>\n",
       "      <td>512.329200</td>\n",
       "    </tr>\n",
       "    <tr>\n",
       "      <th rowspan=\"8\" valign=\"top\">2</th>\n",
       "      <th>count</th>\n",
       "      <td>83.000000</td>\n",
       "      <td>83.000000</td>\n",
       "    </tr>\n",
       "    <tr>\n",
       "      <th>mean</th>\n",
       "      <td>25.901566</td>\n",
       "      <td>22.248595</td>\n",
       "    </tr>\n",
       "    <tr>\n",
       "      <th>std</th>\n",
       "      <td>14.837787</td>\n",
       "      <td>10.912328</td>\n",
       "    </tr>\n",
       "    <tr>\n",
       "      <th>min</th>\n",
       "      <td>0.670000</td>\n",
       "      <td>10.500000</td>\n",
       "    </tr>\n",
       "    <tr>\n",
       "      <th>25%</th>\n",
       "      <td>17.500000</td>\n",
       "      <td>13.000000</td>\n",
       "    </tr>\n",
       "    <tr>\n",
       "      <th>50%</th>\n",
       "      <td>28.000000</td>\n",
       "      <td>23.000000</td>\n",
       "    </tr>\n",
       "    <tr>\n",
       "      <th>75%</th>\n",
       "      <td>34.000000</td>\n",
       "      <td>26.250000</td>\n",
       "    </tr>\n",
       "    <tr>\n",
       "      <th>max</th>\n",
       "      <td>62.000000</td>\n",
       "      <td>65.000000</td>\n",
       "    </tr>\n",
       "    <tr>\n",
       "      <th rowspan=\"8\" valign=\"top\">3</th>\n",
       "      <th>count</th>\n",
       "      <td>84.000000</td>\n",
       "      <td>84.000000</td>\n",
       "    </tr>\n",
       "    <tr>\n",
       "      <th>mean</th>\n",
       "      <td>20.594286</td>\n",
       "      <td>13.545783</td>\n",
       "    </tr>\n",
       "    <tr>\n",
       "      <th>std</th>\n",
       "      <td>12.057510</td>\n",
       "      <td>10.092638</td>\n",
       "    </tr>\n",
       "    <tr>\n",
       "      <th>min</th>\n",
       "      <td>0.420000</td>\n",
       "      <td>6.975000</td>\n",
       "    </tr>\n",
       "    <tr>\n",
       "      <th>25%</th>\n",
       "      <td>13.750000</td>\n",
       "      <td>7.854200</td>\n",
       "    </tr>\n",
       "    <tr>\n",
       "      <th>50%</th>\n",
       "      <td>22.000000</td>\n",
       "      <td>9.425000</td>\n",
       "    </tr>\n",
       "    <tr>\n",
       "      <th>75%</th>\n",
       "      <td>29.000000</td>\n",
       "      <td>15.862500</td>\n",
       "    </tr>\n",
       "    <tr>\n",
       "      <th>max</th>\n",
       "      <td>63.000000</td>\n",
       "      <td>56.495800</td>\n",
       "    </tr>\n",
       "  </tbody>\n",
       "</table>\n",
       "</div>"
      ],
      "text/plain": [
       "                              Age        Fare\n",
       "Survived Pclass                              \n",
       "0        1      count   61.000000   61.000000\n",
       "                mean    43.926230   70.668918\n",
       "                std     15.623656   58.388264\n",
       "                min      2.000000    5.000000\n",
       "                25%     31.000000   30.000000\n",
       "                50%     46.000000   52.000000\n",
       "                75%     56.000000   79.650000\n",
       "                max     71.000000  263.000000\n",
       "         2      count   90.000000   90.000000\n",
       "                mean    33.544444   20.754953\n",
       "                std     12.151581   15.009893\n",
       "                min     16.000000   10.500000\n",
       "                25%     25.000000   12.906250\n",
       "                50%     30.500000   13.000000\n",
       "                75%     39.000000   26.000000\n",
       "                max     70.000000   73.500000\n",
       "         3      count  267.000000  267.000000\n",
       "                mean    26.464419   13.328104\n",
       "                std     12.305007    9.988838\n",
       "                min      1.000000    4.012500\n",
       "                25%     19.000000    7.775000\n",
       "                50%     25.000000    8.050000\n",
       "                75%     33.000000   15.500000\n",
       "                max     74.000000   56.495800\n",
       "1        1      count  122.000000  122.000000\n",
       "                mean    35.368197   98.770904\n",
       "                std     13.760017   88.572228\n",
       "                min      0.920000   25.929200\n",
       "                25%     24.250000   52.000000\n",
       "                50%     35.000000   77.958300\n",
       "                75%     45.000000  113.275000\n",
       "                max     80.000000  512.329200\n",
       "         2      count   83.000000   83.000000\n",
       "                mean    25.901566   22.248595\n",
       "                std     14.837787   10.912328\n",
       "                min      0.670000   10.500000\n",
       "                25%     17.500000   13.000000\n",
       "                50%     28.000000   23.000000\n",
       "                75%     34.000000   26.250000\n",
       "                max     62.000000   65.000000\n",
       "         3      count   84.000000   84.000000\n",
       "                mean    20.594286   13.545783\n",
       "                std     12.057510   10.092638\n",
       "                min      0.420000    6.975000\n",
       "                25%     13.750000    7.854200\n",
       "                50%     22.000000    9.425000\n",
       "                75%     29.000000   15.862500\n",
       "                max     63.000000   56.495800"
      ]
     },
     "execution_count": 10,
     "metadata": {},
     "output_type": "execute_result"
    }
   ],
   "source": [
    "age_fare = df[[\"Survived\", \"Pclass\", \"Age\",\"Fare\"]].dropna()\n",
    "age_fare = age_fare[age_fare[\"Fare\"]>0] #to remove non-paying passengers\n",
    "age_fare.groupby([\"Survived\",\"Pclass\"]).describe()"
   ]
  },
  {
   "cell_type": "markdown",
   "metadata": {
    "deletable": true,
    "editable": true
   },
   "source": [
    "We see here some of what we've expected: after dropping NaNs appearing in our data of interest (Pclass, Age, Fare, and Survived), those of the lowest class (assuming wealthier people weren't simply scrounging on ticket expenditures--a fair assumption for Victorian England and the likely conditions of the 3rd and 2nd class quarters) skew younger than the other classes, and those in the 1st class category skew substantially older, regardless of survival. Also, somewhat supporting the prediction that age played a factor in survival within distinct class categories, we see that mean age for survivors is younger than for those who perished, across all 3 classes. \n",
    "\n",
    "Also, we noted and dealt with a problem in the fares data: minimum values included 0, meaning some passengeres may have received free tickets, or that 0 is a substitution for an NaN, making ticket prices and perhaps even Pclass a poor gauge of economic stratum if those values are included. Thus, they've been screened for and removed from the data passed to the Pandas describe function.\n",
    "\n",
    "# Inferences\n",
    "Now that we have drawn all these distinctions regarding survivability or mortality among different groupings of passengers (gender, age group, ticket type), we are ready to perform some inferential analyses against our population to see if we can claim a degree of correlation between our sampling means and the population mean. With such massive standard deviation for each of our sampling means, computing zscores and t-statistics will be of little use."
   ]
  },
  {
   "cell_type": "code",
   "execution_count": 11,
   "metadata": {
    "collapsed": false,
    "deletable": true,
    "editable": true
   },
   "outputs": [
    {
     "data": {
      "text/plain": [
       "Ttest_indResult(statistic=-4.0136433432380265, pvalue=6.5169222763279379e-05)"
      ]
     },
     "execution_count": 11,
     "metadata": {},
     "output_type": "execute_result"
    }
   ],
   "source": [
    "rich_survivors = survivors.where(survivors[\"Pclass\"]==1)\n",
    "# stat, pval = \n",
    "\n",
    "ss.ttest_ind(df[\"Age\"].dropna(), rich_survivors[\"Age\"].dropna())"
   ]
  },
  {
   "cell_type": "markdown",
   "metadata": {
    "deletable": true,
    "editable": true
   },
   "source": [
    "Running a t-test to compare mean values for age between our passenger population and that of 1st class survivors yields a t-stat value of -4.0136433432380265, with an astronomically small p-value of 6.516922276327938e-05. This strongly (but not definitively) suggests that our observation is not due to random chance, and in turn may suggest that older passengers were more likely to surviva if they were also first-class passengers. \n",
    "\n",
    "Let's construct a 2-dimensional graph comparing class survival. "
   ]
  },
  {
   "cell_type": "markdown",
   "metadata": {
    "deletable": true,
    "editable": true
   },
   "source": [
    "# Further questions we might have asked\n",
    "1. What role does cabin assignment play? We can reasonably suspect that proximity to life boats affected survival.\n",
    "2. Did having children make a difference for survival among adults?\n",
    "3. Did embarkation point have a role to play as well? As unlikely as that seems, it is still worth investigating--perhaps people from the same embarkation point were clustered together, which would relate to cabin location, for instance."
   ]
  },
  {
   "cell_type": "markdown",
   "metadata": {},
   "source": [
    "# Possible biases inherent in the data collection\n",
    "As caveats, it must be noted that the data we have may be quite unreliable-they are based on historical records, gathered in a non-rigorous fashion, and are difficult if not impossible to verify (even if it were possible, the difficult of doing so would likely require the efforts of highly focused historical scholars). Ages could have been lied about, or improperly recorded. Ticket price and cabin position are poor proxies for class membership, and class categories themselves are arbitrary. A more rigorous means of assigning such categories could take into account known assets and wealth--but, such records are likely non-existent for all of the passengers in the dataset."
   ]
  },
  {
   "cell_type": "code",
   "execution_count": null,
   "metadata": {
    "collapsed": true,
    "deletable": true,
    "editable": true
   },
   "outputs": [],
   "source": []
  }
 ],
 "metadata": {
  "anaconda-cloud": {},
  "kernelspec": {
   "display_name": "Python [conda root]",
   "language": "python",
   "name": "conda-root-py"
  },
  "language_info": {
   "codemirror_mode": {
    "name": "ipython",
    "version": 3
   },
   "file_extension": ".py",
   "mimetype": "text/x-python",
   "name": "python",
   "nbconvert_exporter": "python",
   "pygments_lexer": "ipython3",
   "version": "3.5.2"
  }
 },
 "nbformat": 4,
 "nbformat_minor": 2
}
