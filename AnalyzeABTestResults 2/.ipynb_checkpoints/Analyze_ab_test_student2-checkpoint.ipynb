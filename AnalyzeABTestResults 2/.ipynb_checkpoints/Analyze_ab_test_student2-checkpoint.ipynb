{
 "cells": [
  {
   "cell_type": "markdown",
   "metadata": {},
   "source": [
    "## Analyze A/B Test Results\n",
    "\n",
    "You may either submit your notebook through the workspace here, or you may work from your local machine and submit through the next page.  Either way assure that your code passes the project [RUBRIC](https://review.udacity.com/#!/projects/37e27304-ad47-4eb0-a1ab-8c12f60e43d0/rubric).  **Please save regularly\n",
    "\n",
    "This project will assure you have mastered the subjects covered in the statistics lessons.  The hope is to have this project be as comprehensive of these topics as possible.  Good luck!\n",
    "\n",
    "## Table of Contents\n",
    "- [Introduction](#intro)\n",
    "- [Part I - Probability](#probability)\n",
    "- [Part II - A/B Test](#ab_test)\n",
    "- [Part III - Regression](#regression)\n",
    "\n",
    "\n",
    "<a id='intro'></a>\n",
    "### Introduction\n",
    "\n",
    "A/B tests are very commonly performed by data analysts and data scientists.  It is important that you get some practice working with the difficulties of these \n",
    "\n",
    "For this project, you will be working to understand the results of an A/B test run by an e-commerce website.  Your goal is to work through this notebook to help the company understand if they should implement the new page, keep the old page, or perhaps run the experiment longer to make their decision.\n",
    "\n",
    "**As you work through this notebook, follow along in the classroom and answer the corresponding quiz questions associated with each question.** The labels for each classroom concept are provided for each question.  This will assure you are on the right track as you work through the project, and you can feel more confident in your final submission meeting the criteria.  As a final check, assure you meet all the criteria on the [RUBRIC](https://review.udacity.com/#!/projects/37e27304-ad47-4eb0-a1ab-8c12f60e43d0/rubric).\n",
    "\n",
    "<a id='probability'></a>\n",
    "#### Part I - Probability\n",
    "\n",
    "To get started, let's import our libraries."
   ]
  },
  {
   "cell_type": "code",
   "execution_count": 22,
   "metadata": {},
   "outputs": [],
   "source": [
    "import pandas as pd\n",
    "import numpy as np\n",
    "import random\n",
    "import matplotlib.pyplot as plt\n",
    "%matplotlib inline\n",
    "#We are setting the seed to assure you get the same answers on quizzes as we set up\n",
    "random.seed(42)"
   ]
  },
  {
   "cell_type": "markdown",
   "metadata": {},
   "source": [
    "`1.` Now, read in the `ab_data.csv` data. Store it in `df`.  **Use your dataframe to answer the questions in Quiz 1 of the classroom.**\n",
    "\n",
    "a. Read in the dataset and take a look at the top few rows here:"
   ]
  },
  {
   "cell_type": "code",
   "execution_count": 23,
   "metadata": {},
   "outputs": [
    {
     "data": {
      "text/html": [
       "<div>\n",
       "<style scoped>\n",
       "    .dataframe tbody tr th:only-of-type {\n",
       "        vertical-align: middle;\n",
       "    }\n",
       "\n",
       "    .dataframe tbody tr th {\n",
       "        vertical-align: top;\n",
       "    }\n",
       "\n",
       "    .dataframe thead th {\n",
       "        text-align: right;\n",
       "    }\n",
       "</style>\n",
       "<table border=\"1\" class=\"dataframe\">\n",
       "  <thead>\n",
       "    <tr style=\"text-align: right;\">\n",
       "      <th></th>\n",
       "      <th>user_id</th>\n",
       "      <th>timestamp</th>\n",
       "      <th>group</th>\n",
       "      <th>landing_page</th>\n",
       "      <th>converted</th>\n",
       "    </tr>\n",
       "  </thead>\n",
       "  <tbody>\n",
       "    <tr>\n",
       "      <th>0</th>\n",
       "      <td>851104</td>\n",
       "      <td>2017-01-21 22:11:48.556739</td>\n",
       "      <td>control</td>\n",
       "      <td>old_page</td>\n",
       "      <td>0</td>\n",
       "    </tr>\n",
       "    <tr>\n",
       "      <th>1</th>\n",
       "      <td>804228</td>\n",
       "      <td>2017-01-12 08:01:45.159739</td>\n",
       "      <td>control</td>\n",
       "      <td>old_page</td>\n",
       "      <td>0</td>\n",
       "    </tr>\n",
       "    <tr>\n",
       "      <th>2</th>\n",
       "      <td>661590</td>\n",
       "      <td>2017-01-11 16:55:06.154213</td>\n",
       "      <td>treatment</td>\n",
       "      <td>new_page</td>\n",
       "      <td>0</td>\n",
       "    </tr>\n",
       "    <tr>\n",
       "      <th>3</th>\n",
       "      <td>853541</td>\n",
       "      <td>2017-01-08 18:28:03.143765</td>\n",
       "      <td>treatment</td>\n",
       "      <td>new_page</td>\n",
       "      <td>0</td>\n",
       "    </tr>\n",
       "    <tr>\n",
       "      <th>4</th>\n",
       "      <td>864975</td>\n",
       "      <td>2017-01-21 01:52:26.210827</td>\n",
       "      <td>control</td>\n",
       "      <td>old_page</td>\n",
       "      <td>1</td>\n",
       "    </tr>\n",
       "  </tbody>\n",
       "</table>\n",
       "</div>"
      ],
      "text/plain": [
       "   user_id                   timestamp      group landing_page  converted\n",
       "0   851104  2017-01-21 22:11:48.556739    control     old_page          0\n",
       "1   804228  2017-01-12 08:01:45.159739    control     old_page          0\n",
       "2   661590  2017-01-11 16:55:06.154213  treatment     new_page          0\n",
       "3   853541  2017-01-08 18:28:03.143765  treatment     new_page          0\n",
       "4   864975  2017-01-21 01:52:26.210827    control     old_page          1"
      ]
     },
     "execution_count": 23,
     "metadata": {},
     "output_type": "execute_result"
    }
   ],
   "source": [
    "df = pd.read_csv('ab_data.csv')\n",
    "\n",
    "df.head()"
   ]
  },
  {
   "cell_type": "markdown",
   "metadata": {},
   "source": [
    "b. Use the below cell to find the number of rows in the dataset."
   ]
  },
  {
   "cell_type": "code",
   "execution_count": 24,
   "metadata": {},
   "outputs": [
    {
     "data": {
      "text/plain": [
       "(294478, 5)"
      ]
     },
     "execution_count": 24,
     "metadata": {},
     "output_type": "execute_result"
    }
   ],
   "source": [
    "df.shape"
   ]
  },
  {
   "cell_type": "markdown",
   "metadata": {},
   "source": [
    "c. The number of unique users in the dataset."
   ]
  },
  {
   "cell_type": "code",
   "execution_count": 25,
   "metadata": {},
   "outputs": [
    {
     "data": {
      "text/plain": [
       "290584"
      ]
     },
     "execution_count": 25,
     "metadata": {},
     "output_type": "execute_result"
    }
   ],
   "source": [
    "df.user_id.nunique()"
   ]
  },
  {
   "cell_type": "markdown",
   "metadata": {},
   "source": [
    "d. The proportion of users converted."
   ]
  },
  {
   "cell_type": "code",
   "execution_count": 26,
   "metadata": {},
   "outputs": [
    {
     "data": {
      "text/plain": [
       "0.12104245244060237"
      ]
     },
     "execution_count": 26,
     "metadata": {},
     "output_type": "execute_result"
    }
   ],
   "source": [
    "df.query('converted == 1').user_id.nunique( ) / df.user_id.nunique()"
   ]
  },
  {
   "cell_type": "markdown",
   "metadata": {},
   "source": [
    "e. The number of times the `new_page` and `treatment` don't line up."
   ]
  },
  {
   "cell_type": "code",
   "execution_count": 57,
   "metadata": {},
   "outputs": [
    {
     "data": {
      "text/plain": [
       "(3893, 5)"
      ]
     },
     "execution_count": 57,
     "metadata": {},
     "output_type": "execute_result"
    }
   ],
   "source": [
    "df_dl = df[((df['group'] != 'treatment') & (df['landing_page'] != 'old_page')) | ((df.group == 'treatment') & (df.landing_page == 'old_page'))]\n",
    "df_dl.shape"
   ]
  },
  {
   "cell_type": "markdown",
   "metadata": {},
   "source": [
    "f. Do any of the rows have missing values?"
   ]
  },
  {
   "cell_type": "code",
   "execution_count": 28,
   "metadata": {},
   "outputs": [
    {
     "name": "stdout",
     "output_type": "stream",
     "text": [
      "<class 'pandas.core.frame.DataFrame'>\n",
      "RangeIndex: 294478 entries, 0 to 294477\n",
      "Data columns (total 5 columns):\n",
      "user_id         294478 non-null int64\n",
      "timestamp       294478 non-null object\n",
      "group           294478 non-null object\n",
      "landing_page    294478 non-null object\n",
      "converted       294478 non-null int64\n",
      "dtypes: int64(2), object(3)\n",
      "memory usage: 11.2+ MB\n"
     ]
    }
   ],
   "source": [
    "df.info()"
   ]
  },
  {
   "cell_type": "markdown",
   "metadata": {},
   "source": [
    "`2.` For the rows where **treatment** is not aligned with **new_page** or **control** is not aligned with **old_page**, we cannot be sure if this row truly received the new or old page.  Use **Quiz 2** in the classroom to provide how we should handle these rows.  \n",
    "\n",
    "a. Now use the answer to the quiz to create a new dataset that meets the specifications from the quiz.  Store your new dataframe in **df2**."
   ]
  },
  {
   "cell_type": "code",
   "execution_count": 29,
   "metadata": {},
   "outputs": [
    {
     "data": {
      "text/plain": [
       "(290585, 5)"
      ]
     },
     "execution_count": 29,
     "metadata": {},
     "output_type": "execute_result"
    }
   ],
   "source": [
    "df2 = df[((df['group'] == 'treatment') & (df['landing_page'] == 'new_page')) | ((df['group'] == 'control') & (df['landing_page'] == 'old_page')) ]\n",
    "df2.shape"
   ]
  },
  {
   "cell_type": "code",
   "execution_count": 30,
   "metadata": {},
   "outputs": [
    {
     "data": {
      "text/plain": [
       "0"
      ]
     },
     "execution_count": 30,
     "metadata": {},
     "output_type": "execute_result"
    }
   ],
   "source": [
    "# Double Check all of the correct rows were removed - this should be 0\n",
    "df2[((df2['group'] == 'treatment') == (df2['landing_page'] == 'new_page')) == False].shape[0]"
   ]
  },
  {
   "cell_type": "markdown",
   "metadata": {},
   "source": [
    "`3.` Use **df2** and the cells below to answer questions for **Quiz3** in the classroom."
   ]
  },
  {
   "cell_type": "markdown",
   "metadata": {},
   "source": [
    "a. How many unique **user_id**s are in **df2**?"
   ]
  },
  {
   "cell_type": "code",
   "execution_count": 31,
   "metadata": {},
   "outputs": [
    {
     "data": {
      "text/plain": [
       "290584"
      ]
     },
     "execution_count": 31,
     "metadata": {},
     "output_type": "execute_result"
    }
   ],
   "source": [
    "df2.user_id.nunique()"
   ]
  },
  {
   "cell_type": "markdown",
   "metadata": {},
   "source": [
    "b. There is one **user_id** repeated in **df2**.  What is it?"
   ]
  },
  {
   "cell_type": "code",
   "execution_count": 32,
   "metadata": {},
   "outputs": [
    {
     "data": {
      "text/html": [
       "<div>\n",
       "<style scoped>\n",
       "    .dataframe tbody tr th:only-of-type {\n",
       "        vertical-align: middle;\n",
       "    }\n",
       "\n",
       "    .dataframe tbody tr th {\n",
       "        vertical-align: top;\n",
       "    }\n",
       "\n",
       "    .dataframe thead th {\n",
       "        text-align: right;\n",
       "    }\n",
       "</style>\n",
       "<table border=\"1\" class=\"dataframe\">\n",
       "  <thead>\n",
       "    <tr style=\"text-align: right;\">\n",
       "      <th></th>\n",
       "      <th>user_id</th>\n",
       "      <th>timestamp</th>\n",
       "      <th>group</th>\n",
       "      <th>landing_page</th>\n",
       "      <th>converted</th>\n",
       "    </tr>\n",
       "  </thead>\n",
       "  <tbody>\n",
       "    <tr>\n",
       "      <th>2893</th>\n",
       "      <td>773192</td>\n",
       "      <td>2017-01-14 02:55:59.590927</td>\n",
       "      <td>treatment</td>\n",
       "      <td>new_page</td>\n",
       "      <td>0</td>\n",
       "    </tr>\n",
       "  </tbody>\n",
       "</table>\n",
       "</div>"
      ],
      "text/plain": [
       "      user_id                   timestamp      group landing_page  converted\n",
       "2893   773192  2017-01-14 02:55:59.590927  treatment     new_page          0"
      ]
     },
     "execution_count": 32,
     "metadata": {},
     "output_type": "execute_result"
    }
   ],
   "source": [
    "df2[df2.duplicated(['user_id'])]"
   ]
  },
  {
   "cell_type": "markdown",
   "metadata": {},
   "source": [
    "c. What is the row information for the repeat **user_id**? "
   ]
  },
  {
   "cell_type": "code",
   "execution_count": 33,
   "metadata": {},
   "outputs": [
    {
     "data": {
      "text/html": [
       "<div>\n",
       "<style scoped>\n",
       "    .dataframe tbody tr th:only-of-type {\n",
       "        vertical-align: middle;\n",
       "    }\n",
       "\n",
       "    .dataframe tbody tr th {\n",
       "        vertical-align: top;\n",
       "    }\n",
       "\n",
       "    .dataframe thead th {\n",
       "        text-align: right;\n",
       "    }\n",
       "</style>\n",
       "<table border=\"1\" class=\"dataframe\">\n",
       "  <thead>\n",
       "    <tr style=\"text-align: right;\">\n",
       "      <th></th>\n",
       "      <th>user_id</th>\n",
       "      <th>timestamp</th>\n",
       "      <th>group</th>\n",
       "      <th>landing_page</th>\n",
       "      <th>converted</th>\n",
       "    </tr>\n",
       "  </thead>\n",
       "  <tbody>\n",
       "    <tr>\n",
       "      <th>2893</th>\n",
       "      <td>773192</td>\n",
       "      <td>2017-01-14 02:55:59.590927</td>\n",
       "      <td>treatment</td>\n",
       "      <td>new_page</td>\n",
       "      <td>0</td>\n",
       "    </tr>\n",
       "  </tbody>\n",
       "</table>\n",
       "</div>"
      ],
      "text/plain": [
       "      user_id                   timestamp      group landing_page  converted\n",
       "2893   773192  2017-01-14 02:55:59.590927  treatment     new_page          0"
      ]
     },
     "execution_count": 33,
     "metadata": {},
     "output_type": "execute_result"
    }
   ],
   "source": [
    "df2[df2.duplicated(['user_id'])]"
   ]
  },
  {
   "cell_type": "markdown",
   "metadata": {},
   "source": [
    "d. Remove **one** of the rows with a duplicate **user_id**, but keep your dataframe as **df2**."
   ]
  },
  {
   "cell_type": "code",
   "execution_count": 34,
   "metadata": {},
   "outputs": [],
   "source": [
    "df2 = df2.drop(df2.index[2893])"
   ]
  },
  {
   "cell_type": "code",
   "execution_count": 35,
   "metadata": {},
   "outputs": [
    {
     "name": "stdout",
     "output_type": "stream",
     "text": [
      "<class 'pandas.core.frame.DataFrame'>\n",
      "Int64Index: 290584 entries, 0 to 294477\n",
      "Data columns (total 5 columns):\n",
      "user_id         290584 non-null int64\n",
      "timestamp       290584 non-null object\n",
      "group           290584 non-null object\n",
      "landing_page    290584 non-null object\n",
      "converted       290584 non-null int64\n",
      "dtypes: int64(2), object(3)\n",
      "memory usage: 13.3+ MB\n"
     ]
    }
   ],
   "source": [
    "df2.info()"
   ]
  },
  {
   "cell_type": "markdown",
   "metadata": {},
   "source": [
    "`4.` Use **df2** in the below cells to answer the quiz questions related to **Quiz 4** in the classroom.\n",
    "\n",
    "a. What is the probability of an individual converting regardless of the page they receive?"
   ]
  },
  {
   "cell_type": "code",
   "execution_count": 36,
   "metadata": {},
   "outputs": [
    {
     "data": {
      "text/plain": [
       "0.11959708724499628"
      ]
     },
     "execution_count": 36,
     "metadata": {},
     "output_type": "execute_result"
    }
   ],
   "source": [
    "df2.query('converted == 1').user_id.nunique()  / df2.user_id.count()"
   ]
  },
  {
   "cell_type": "markdown",
   "metadata": {},
   "source": [
    "b. Given that an individual was in the `control` group, what is the probability they converted?"
   ]
  },
  {
   "cell_type": "code",
   "execution_count": 37,
   "metadata": {},
   "outputs": [
    {
     "data": {
      "text/plain": [
       "0.060185695014178343"
      ]
     },
     "execution_count": 37,
     "metadata": {},
     "output_type": "execute_result"
    }
   ],
   "source": [
    "df2[((df2['group'] == 'control') & (df2['converted'] == 1))].user_id.count() / df2.user_id.count()"
   ]
  },
  {
   "cell_type": "markdown",
   "metadata": {},
   "source": [
    "c. Given that an individual was in the `treatment` group, what is the probability they converted?"
   ]
  },
  {
   "cell_type": "code",
   "execution_count": 38,
   "metadata": {},
   "outputs": [
    {
     "data": {
      "text/plain": [
       "0.059411392230817942"
      ]
     },
     "execution_count": 38,
     "metadata": {},
     "output_type": "execute_result"
    }
   ],
   "source": [
    "df2[((df2['group'] == 'treatment') & (df2['converted'] == 1))].user_id.count() / df2.user_id.count()"
   ]
  },
  {
   "cell_type": "markdown",
   "metadata": {},
   "source": [
    "d. What is the probability that an individual received the new page?"
   ]
  },
  {
   "cell_type": "code",
   "execution_count": 39,
   "metadata": {},
   "outputs": [
    {
     "data": {
      "text/plain": [
       "0.50005850287696496"
      ]
     },
     "execution_count": 39,
     "metadata": {},
     "output_type": "execute_result"
    }
   ],
   "source": [
    "df2.query('landing_page == \"new_page\"').user_id.nunique()  / df2.user_id.count()"
   ]
  },
  {
   "cell_type": "markdown",
   "metadata": {},
   "source": [
    "e. Use the results in the previous two portions of this question to suggest if you think there is evidence that one page leads to more conversions?  Write your response below."
   ]
  },
  {
   "cell_type": "markdown",
   "metadata": {},
   "source": [
    "The Probablity of Old Page Conversion = 6%\n",
    "The Probabity of New Page Conversion = 5.9%\n",
    "\n",
    "we fail to prove that there is sufficient evidence to say that the new treatment page leads to more conversions."
   ]
  },
  {
   "cell_type": "markdown",
   "metadata": {},
   "source": [
    "<a id='ab_test'></a>\n",
    "### Part II - A/B Test\n",
    "\n",
    "Notice that because of the time stamp associated with each event, you could technically run a hypothesis test continuously as each observation was observed.  \n",
    "\n",
    "However, then the hard question is do you stop as soon as one page is considered significantly better than another or does it need to happen consistently for a certain amount of time?  How long do you run to render a decision that neither page is better than another?  \n",
    "\n",
    "These questions are the difficult parts associated with A/B tests in general.  \n",
    "\n",
    "\n",
    "`1.` For now, consider you need to make the decision just based on all the data provided.  If you want to assume that the old page is better unless the new page proves to be definitely better at a Type I error rate of 5%, what should your null and alternative hypotheses be?  You can state your hypothesis in terms of words or in terms of **$p_{old}$** and **$p_{new}$**, which are the converted rates for the old and new pages."
   ]
  },
  {
   "cell_type": "markdown",
   "metadata": {},
   "source": [
    "H0: Pnew <= Pold\n",
    "H1: Pnew > Pold"
   ]
  },
  {
   "cell_type": "markdown",
   "metadata": {},
   "source": [
    "`2.` Assume under the null hypothesis, $p_{new}$ and $p_{old}$ both have \"true\" success rates equal to the **converted** success rate regardless of page - that is $p_{new}$ and $p_{old}$ are equal. Furthermore, assume they are equal to the **converted** rate in **ab_data.csv** regardless of the page. <br><br>\n",
    "\n",
    "Use a sample size for each page equal to the ones in **ab_data.csv**.  <br><br>\n",
    "\n",
    "Perform the sampling distribution for the difference in **converted** between the two pages over 10,000 iterations of calculating an estimate from the null.  <br><br>\n",
    "\n",
    "Use the cells below to provide the necessary parts of this simulation.  If this doesn't make complete sense right now, don't worry - you are going to work through the problems below to complete this problem.  You can use **Quiz 5** in the classroom to make sure you are on the right track.<br><br>"
   ]
  },
  {
   "cell_type": "markdown",
   "metadata": {},
   "source": [
    "a. What is the **convert rate** for $p_{new}$ under the null? "
   ]
  },
  {
   "cell_type": "code",
   "execution_count": 40,
   "metadata": {},
   "outputs": [
    {
     "data": {
      "text/html": [
       "<div>\n",
       "<style scoped>\n",
       "    .dataframe tbody tr th:only-of-type {\n",
       "        vertical-align: middle;\n",
       "    }\n",
       "\n",
       "    .dataframe tbody tr th {\n",
       "        vertical-align: top;\n",
       "    }\n",
       "\n",
       "    .dataframe thead th {\n",
       "        text-align: right;\n",
       "    }\n",
       "</style>\n",
       "<table border=\"1\" class=\"dataframe\">\n",
       "  <thead>\n",
       "    <tr style=\"text-align: right;\">\n",
       "      <th></th>\n",
       "      <th>user_id</th>\n",
       "      <th>timestamp</th>\n",
       "      <th>group</th>\n",
       "      <th>landing_page</th>\n",
       "      <th>converted</th>\n",
       "    </tr>\n",
       "  </thead>\n",
       "  <tbody>\n",
       "    <tr>\n",
       "      <th>0</th>\n",
       "      <td>851104</td>\n",
       "      <td>2017-01-21 22:11:48.556739</td>\n",
       "      <td>control</td>\n",
       "      <td>old_page</td>\n",
       "      <td>0</td>\n",
       "    </tr>\n",
       "    <tr>\n",
       "      <th>1</th>\n",
       "      <td>804228</td>\n",
       "      <td>2017-01-12 08:01:45.159739</td>\n",
       "      <td>control</td>\n",
       "      <td>old_page</td>\n",
       "      <td>0</td>\n",
       "    </tr>\n",
       "    <tr>\n",
       "      <th>2</th>\n",
       "      <td>661590</td>\n",
       "      <td>2017-01-11 16:55:06.154213</td>\n",
       "      <td>treatment</td>\n",
       "      <td>new_page</td>\n",
       "      <td>0</td>\n",
       "    </tr>\n",
       "    <tr>\n",
       "      <th>3</th>\n",
       "      <td>853541</td>\n",
       "      <td>2017-01-08 18:28:03.143765</td>\n",
       "      <td>treatment</td>\n",
       "      <td>new_page</td>\n",
       "      <td>0</td>\n",
       "    </tr>\n",
       "    <tr>\n",
       "      <th>4</th>\n",
       "      <td>864975</td>\n",
       "      <td>2017-01-21 01:52:26.210827</td>\n",
       "      <td>control</td>\n",
       "      <td>old_page</td>\n",
       "      <td>1</td>\n",
       "    </tr>\n",
       "  </tbody>\n",
       "</table>\n",
       "</div>"
      ],
      "text/plain": [
       "   user_id                   timestamp      group landing_page  converted\n",
       "0   851104  2017-01-21 22:11:48.556739    control     old_page          0\n",
       "1   804228  2017-01-12 08:01:45.159739    control     old_page          0\n",
       "2   661590  2017-01-11 16:55:06.154213  treatment     new_page          0\n",
       "3   853541  2017-01-08 18:28:03.143765  treatment     new_page          0\n",
       "4   864975  2017-01-21 01:52:26.210827    control     old_page          1"
      ]
     },
     "execution_count": 40,
     "metadata": {},
     "output_type": "execute_result"
    }
   ],
   "source": [
    "df2.head()"
   ]
  },
  {
   "cell_type": "code",
   "execution_count": 41,
   "metadata": {},
   "outputs": [
    {
     "data": {
      "text/plain": [
       "0.11959708724499628"
      ]
     },
     "execution_count": 41,
     "metadata": {},
     "output_type": "execute_result"
    }
   ],
   "source": [
    "Pnew = df2.query('converted == 1').user_id.nunique()  / df2.user_id.count()\n",
    "Pnew"
   ]
  },
  {
   "cell_type": "markdown",
   "metadata": {},
   "source": [
    "b. What is the **convert rate** for $p_{old}$ under the null? <br><br>"
   ]
  },
  {
   "cell_type": "code",
   "execution_count": 42,
   "metadata": {},
   "outputs": [
    {
     "data": {
      "text/plain": [
       "0.11959708724499628"
      ]
     },
     "execution_count": 42,
     "metadata": {},
     "output_type": "execute_result"
    }
   ],
   "source": [
    "Pold = df2.query('converted == 1').user_id.nunique()  / df2.user_id.count()\n",
    "Pold"
   ]
  },
  {
   "cell_type": "markdown",
   "metadata": {},
   "source": [
    "c. What is $n_{new}$?"
   ]
  },
  {
   "cell_type": "code",
   "execution_count": 43,
   "metadata": {},
   "outputs": [
    {
     "data": {
      "text/plain": [
       "145310"
      ]
     },
     "execution_count": 43,
     "metadata": {},
     "output_type": "execute_result"
    }
   ],
   "source": [
    "Nnew = df2.query('landing_page == \"new_page\"').user_id.count()\n",
    "Nnew"
   ]
  },
  {
   "cell_type": "markdown",
   "metadata": {},
   "source": [
    "d. What is $n_{old}$?"
   ]
  },
  {
   "cell_type": "code",
   "execution_count": 44,
   "metadata": {},
   "outputs": [
    {
     "data": {
      "text/plain": [
       "145274"
      ]
     },
     "execution_count": 44,
     "metadata": {},
     "output_type": "execute_result"
    }
   ],
   "source": [
    "Nold = df2.query('landing_page == \"old_page\"').user_id.count()\n",
    "Nold"
   ]
  },
  {
   "cell_type": "markdown",
   "metadata": {},
   "source": [
    "e. Simulate $n_{new}$ transactions with a convert rate of $p_{new}$ under the null.  Store these $n_{new}$ 1's and 0's in **new_page_converted**."
   ]
  },
  {
   "cell_type": "code",
   "execution_count": 45,
   "metadata": {},
   "outputs": [
    {
     "data": {
      "text/plain": [
       "array([0, 0, 0, ..., 1, 0, 0])"
      ]
     },
     "execution_count": 45,
     "metadata": {},
     "output_type": "execute_result"
    }
   ],
   "source": [
    "new_page_converted = np.random.binomial(1,0.1196,145310)\n",
    "new_page_converted"
   ]
  },
  {
   "cell_type": "markdown",
   "metadata": {},
   "source": [
    "f. Simulate $n_{old}$ transactions with a convert rate of $p_{old}$ under the null.  Store these $n_{old}$ 1's and 0's in **old_page_converted**."
   ]
  },
  {
   "cell_type": "code",
   "execution_count": 46,
   "metadata": {},
   "outputs": [
    {
     "data": {
      "text/plain": [
       "array([0, 0, 0, ..., 0, 0, 0])"
      ]
     },
     "execution_count": 46,
     "metadata": {},
     "output_type": "execute_result"
    }
   ],
   "source": [
    "old_page_converted = np.random.binomial(1,0.1196,145274)\n",
    "old_page_converted"
   ]
  },
  {
   "cell_type": "markdown",
   "metadata": {},
   "source": [
    "g. Find $p_{new}$ - $p_{old}$ for your simulated values from part (e) and (f)."
   ]
  },
  {
   "cell_type": "code",
   "execution_count": 47,
   "metadata": {},
   "outputs": [
    {
     "data": {
      "text/plain": [
       "0.12165714678962218"
      ]
     },
     "execution_count": 47,
     "metadata": {},
     "output_type": "execute_result"
    }
   ],
   "source": [
    "Pnew = sum(new_page_converted == 1) / Nnew\n",
    "Pnew"
   ]
  },
  {
   "cell_type": "code",
   "execution_count": 48,
   "metadata": {},
   "outputs": [
    {
     "data": {
      "text/plain": [
       "0.11971171716893594"
      ]
     },
     "execution_count": 48,
     "metadata": {},
     "output_type": "execute_result"
    }
   ],
   "source": [
    "Pold = sum(old_page_converted == 1) / Nold\n",
    "Pold"
   ]
  },
  {
   "cell_type": "code",
   "execution_count": 49,
   "metadata": {},
   "outputs": [
    {
     "data": {
      "text/plain": [
       "0.001945429620686237"
      ]
     },
     "execution_count": 49,
     "metadata": {},
     "output_type": "execute_result"
    }
   ],
   "source": [
    "Pdiff = Pnew - Pold\n",
    "Pdiff"
   ]
  },
  {
   "cell_type": "markdown",
   "metadata": {},
   "source": [
    "h. Simulate 10,000 $p_{new}$ - $p_{old}$ values using this same process similarly to the one you calculated in parts **a. through g.** above.  Store all 10,000 values in **p_diffs**."
   ]
  },
  {
   "cell_type": "code",
   "execution_count": 50,
   "metadata": {},
   "outputs": [
    {
     "data": {
      "text/plain": [
       "[-0.001385666874223368,\n",
       " 0.0024547351496941872,\n",
       " 0.0013191532960764446,\n",
       " 0.00069980314996345716,\n",
       " 0.0007821584014284233,\n",
       " 0.0034733837258919265,\n",
       " 0.0016700401023034689,\n",
       " 0.0028262930529817654,\n",
       " 0.001731954481914752,\n",
       " 0.0031569521588429433,\n",
       " 0.0019936400106594365,\n",
       " 0.0012226284884439831,\n",
       " 0.001043661455379527,\n",
       " 0.0013191925196302107,\n",
       " 0.0031086496787869899,\n",
       " 0.0025302750718360217,\n",
       " 0.0026130123266071698,\n",
       " 0.00050708608221954055,\n",
       " 0.0017731892376059849,\n",
       " 0.0028126606889635891,\n",
       " 0.0013741500240504329,\n",
       " 0.0015394318265677526,\n",
       " 0.0002316232328449519,\n",
       " 0.00045876484307266763,\n",
       " 0.0034249158247614403,\n",
       " 0.0011882124728196941,\n",
       " 0.0029298958172103567,\n",
       " 0.0018217168267530698,\n",
       " 0.0014362656375462163,\n",
       " 0.0018215548164223078,\n",
       " 0.00043126818445757276,\n",
       " 0.0013260965282922837,\n",
       " 0.0033563020811164107,\n",
       " 0.0027644127808085367,\n",
       " 0.0015736704835141585,\n",
       " 0.0030879274205693752,\n",
       " 0.00087169904791939423,\n",
       " 0.0010505893392482313,\n",
       " 0.0040926997645668733,\n",
       " 0.0030601800722845907,\n",
       " 0.0014016398611779168,\n",
       " -7.1019075970818468e-05,\n",
       " 0.0023654810056828596,\n",
       " 0.00028013376827303038,\n",
       " -0.0010278061390862625,\n",
       " 0.0024064838307953224,\n",
       " 0.0018080469445530545,\n",
       " 0.0014635508300453876,\n",
       " 0.00050659322973967136,\n",
       " 0.0017665035165474463,\n",
       " -0.00036033428233900322,\n",
       " 0.0022965074285663661,\n",
       " 0.00052739734580861675,\n",
       " 0.0025582782259061937,\n",
       " 0.0013329169737311131,\n",
       " 0.00045200238027851003,\n",
       " 0.0015462625042380052,\n",
       " 0.0021179002289733601,\n",
       " 0.0013261988506064332,\n",
       " 0.0031223792490036179,\n",
       " 0.0028813221830218949,\n",
       " 0.0035971186896598395,\n",
       " 0.0010711990429202733,\n",
       " 0.0011674816877425692,\n",
       " 0.001587710431417047,\n",
       " 0.001842312887449904,\n",
       " 0.0030946438383221558,\n",
       " -0.00075936837977884364,\n",
       " 0.0004725984409753442,\n",
       " -0.00028466304656066255,\n",
       " 0.0019317222203043688,\n",
       " 0.0019384335219414378,\n",
       " 0.0025167279764129885,\n",
       " 0.00019026057426103915,\n",
       " 0.0014429428317452447,\n",
       " 0.0028125037947485526,\n",
       " 0.0025718509019077712,\n",
       " 0.0012912234729980793,\n",
       " 0.0019110340695247946,\n",
       " 0.0019108567108469254,\n",
       " 0.0014778073601799252,\n",
       " 0.0038449672097580351,\n",
       " 0.0027646583543625147,\n",
       " 0.0021381006433887906,\n",
       " 0.0022688743401990674,\n",
       " 0.00061049613942314174,\n",
       " 0.0019798234664757941,\n",
       " 0.00091306511724710548,\n",
       " 0.0020625692481064661,\n",
       " 0.00097503747950307418,\n",
       " 0.0029570343477259148,\n",
       " 0.0032532330982933261,\n",
       " 0.0013739197988435758,\n",
       " 0.0008580274603474658,\n",
       " 0.0026610129558363588,\n",
       " 0.001091783166013785,\n",
       " -0.00056675704509288882,\n",
       " 0.0027783111828435236,\n",
       " 0.0041478772619625431,\n",
       " -0.00054626501208213107,\n",
       " 0.0023309132119592457,\n",
       " 0.0044092268324424089,\n",
       " 0.0026750529037392612,\n",
       " 0.0029228229767299246,\n",
       " 0.0032530199268055032,\n",
       " 0.0038519616031309628,\n",
       " 0.00091989579491737195,\n",
       " 0.0029020580842147453,\n",
       " 0.0025923224704556963,\n",
       " 0.0031292696146904692,\n",
       " 0.00056896976513656772,\n",
       " -0.00044985275899524224,\n",
       " 0.0017321403674521452,\n",
       " 0.0015874853223259017,\n",
       " 0.0024408043455930589,\n",
       " 0.0019248454975927393,\n",
       " 0.003308173548994528,\n",
       " 0.004182276223867798,\n",
       " 0.0011745852249172295,\n",
       " 0.0034526904589966545,\n",
       " 0.0016426150693082953,\n",
       " 0.00085114562152012463,\n",
       " 0.0016223140379506285,\n",
       " 0.0020143435097861456,\n",
       " 0.0039073301021797097,\n",
       " 0.0023376176921087038,\n",
       " 0.0018697430365607753,\n",
       " 0.0003487372796866367,\n",
       " 0.00027318712531339273,\n",
       " 0.002310182426882107,\n",
       " 0.002530675834233137,\n",
       " 0.00020421354819691317,\n",
       " 0.0019660307974987828,\n",
       " 0.0024065639832747399,\n",
       " 0.0036522450258984207,\n",
       " 0.0041549057627735114,\n",
       " 0.0033701118038124422,\n",
       " 0.0031569521588429433,\n",
       " 0.0030465033685969645,\n",
       " 0.0015117697468780972,\n",
       " 0.00078940007372720056,\n",
       " 0.0015876814400947042,\n",
       " 0.0010917763445261741,\n",
       " 0.00089247076192218444,\n",
       " 0.0027162671949676476,\n",
       " 0.0026819671446327298,\n",
       " 0.0020970978182763278,\n",
       " 0.0032462148297137811,\n",
       " 0.0023789769399488181,\n",
       " 0.0021174397785596599,\n",
       " 9.3959170347823751e-05,\n",
       " 0.001608243393353484,\n",
       " 0.0027506746837324125,\n",
       " 0.0023447706850685673,\n",
       " -0.000869660275809786,\n",
       " 0.0019383772446686515,\n",
       " 0.0033010870655388741,\n",
       " 0.001319555763845473,\n",
       " 0.0010023687170436085,\n",
       " 0.0013259345179615217,\n",
       " 0.003899907660459237,\n",
       " 0.0016769168250150984,\n",
       " 0.0021999007630825879,\n",
       " 0.0018214098598105938,\n",
       " 0.0031913255401696539,\n",
       " 0.0014982431159178966,\n",
       " 0.0027918497514070328,\n",
       " 0.0032048658141050762,\n",
       " 0.0027851674410923066,\n",
       " 0.0012020153740281286,\n",
       " 0.0012780686131126651,\n",
       " 0.0017594238545794033,\n",
       " 0.0017595432306125869,\n",
       " 0.0011471192629963906,\n",
       " 0.0019316710591472802,\n",
       " 0.00032808153097321768,\n",
       " 0.0026684098169782872,\n",
       " 0.00085122918474335452,\n",
       " 0.0032117698227671493,\n",
       " 0.0026541890996537032,\n",
       " 0.0025856265171657622,\n",
       " 0.002675081895061604,\n",
       " 0.001443021278852763,\n",
       " 0.0029295871448959815,\n",
       " 0.00090624637718017542,\n",
       " 0.001546330719114114,\n",
       " 0.0021381023487606898,\n",
       " 0.0032256614033145253,\n",
       " 0.00072032417429655771,\n",
       " 0.001229646757023542,\n",
       " 0.002089897074903202,\n",
       " 0.0012503366131750016,\n",
       " 0.0035766931661532775,\n",
       " 0.0017528046430250743,\n",
       " 0.0017805554020536574,\n",
       " 0.0018558906795671792,\n",
       " 0.0017042992237127214,\n",
       " 0.0011540624952122297,\n",
       " 0.0023237806834622149,\n",
       " 0.002936472394467135,\n",
       " 0.0014497718040435981,\n",
       " -0.00073896843685081204,\n",
       " 0.0024133366783003207,\n",
       " 0.0033150929060037221,\n",
       " 0.0012571979875394962,\n",
       " -0.00046372899119548339,\n",
       " 0.0017941758284685111,\n",
       " 0.00061027955719150651,\n",
       " 0.0019525058719104815,\n",
       " 0.0028264533579406143,\n",
       " 0.0027094109367188368,\n",
       " 0.0020829129137616975,\n",
       " 0.0028334886802391795,\n",
       " 0.0019455012463061583,\n",
       " 0.0029434429126334039,\n",
       " 0.0042580821840264294,\n",
       " 0.0026197645571699041,\n",
       " 0.00048632460044815973,\n",
       " 0.002682168378517244,\n",
       " 0.0013398107501617629,\n",
       " 0.0015598249480081594,\n",
       " 0.00063072383978900193,\n",
       " 0.00033499747723861328,\n",
       " 0.0010088583203333445,\n",
       " 0.0024684596037951034,\n",
       " 0.00038993963331171444,\n",
       " 0.0028677222210698877,\n",
       " 0.001601393956592298,\n",
       " 0.0019869150660471596,\n",
       " 0.003142942907634283,\n",
       " -0.0011789951271717058,\n",
       " 0.0018490941093349811,\n",
       " 0.0019524837020757357,\n",
       " 0.001422319485097967,\n",
       " 0.00087176726279548922,\n",
       " 0.0026405584410074401,\n",
       " 0.0022620931183139903,\n",
       " 0.0017319578926585644,\n",
       " 0.0028883472730890508,\n",
       " 0.00011455182030084554,\n",
       " 0.00098860503938894007,\n",
       " 0.0019662286206394847,\n",
       " 0.0024134560543334904,\n",
       " 0.0025097813334533509,\n",
       " 0.00073401452095941955,\n",
       " 0.0021861370854279194,\n",
       " 0.0029503486266673762,\n",
       " 0.0031153541589364619,\n",
       " 0.0016150212044947626,\n",
       " 0.00069267403221023871,\n",
       " 0.00087187470122536415,\n",
       " 0.0031566281381814471,\n",
       " 0.00087851608261441116,\n",
       " 0.0021999263436611183,\n",
       " 0.0033838754814671107,\n",
       " 0.0012985094849663481,\n",
       " 0.0012914775734115813,\n",
       " 0.0024064923576548325,\n",
       " 0.00083031080875693719,\n",
       " 0.00052086169747753153,\n",
       " 0.0054486044883453877,\n",
       " 0.0011746653773966609,\n",
       " 0.0015187112737220232,\n",
       " 0.0016355831577535423,\n",
       " 0.0023720217701296703,\n",
       " 0.001271026469326475,\n",
       " 0.0037486965025390756,\n",
       " 0.0017183118856651663,\n",
       " 0.0030675547635917871,\n",
       " 0.0024823699434333851,\n",
       " 0.0013674574815042972,\n",
       " 0.0037900762148420225,\n",
       " 0.00056191227300325663,\n",
       " 0.00078930968901635978,\n",
       " 0.0025578689366495683,\n",
       " 0.00016958265571288822,\n",
       " 0.0016493468354082108,\n",
       " 0.0026474709765290233,\n",
       " 0.0010504597309836244,\n",
       " -0.00019513604304492727,\n",
       " 0.0032119216008664742,\n",
       " 0.0029434633770962226,\n",
       " 0.0034868813655297842,\n",
       " 0.0021451155012245232,\n",
       " 0.0017595227661497542,\n",
       " 0.0028814722557493344,\n",
       " 0.0032531836425081506,\n",
       " 0.0011401947898714987,\n",
       " 0.00044507279103790653,\n",
       " 0.0026539571690749469,\n",
       " 0.0027848434204308103,\n",
       " 0.0051117354601865062,\n",
       " 0.0011331662890605304,\n",
       " 0.0024064514287291672,\n",
       " 0.0024475582815277064,\n",
       " 0.0020071137750906631,\n",
       " 0.00039000273207209779,\n",
       " 0.00092682026804226381,\n",
       " 0.00064459325050163219,\n",
       " 0.0015945342875997026,\n",
       " 0.001959251280985605,\n",
       " 0.0022001906763060436,\n",
       " 0.00160796712310525,\n",
       " 0.0022824708914072761,\n",
       " 0.0017733358995895981,\n",
       " 0.0021310550888587881,\n",
       " 0.00082347330959905984,\n",
       " 0.0033085299717221794,\n",
       " 0.0018010167383701731,\n",
       " 0.0014018189252276853,\n",
       " 0.0034800643308347534,\n",
       " 0.0028400857219587766,\n",
       " 0.0010094722542182966,\n",
       " 0.00043832738196278309,\n",
       " 0.0048224458343968657,\n",
       " 0.0046295803992974227,\n",
       " 0.0014912333741978617,\n",
       " 0.0030123090513200224,\n",
       " 0.0033357486547171272,\n",
       " 0.0033766440413997428,\n",
       " 4.629989972776416e-06,\n",
       " 0.0013260419563913967,\n",
       " 0.0018766862687766145,\n",
       " 0.00021793629692590244,\n",
       " 0.0050629043148407576,\n",
       " 0.0024476878897922855,\n",
       " 0.0026403844930733833,\n",
       " 0.0029845634084071371,\n",
       " 0.0029224341519361319,\n",
       " 0.0054831842196723241,\n",
       " 0.0013671368715865995,\n",
       " 0.0039549282636398703,\n",
       " 0.0022619362240989538,\n",
       " 0.001614954694990553,\n",
       " 0.0015258114001528988,\n",
       " 0.002881446675170804,\n",
       " 0.0016219917226610314,\n",
       " 0.00032109566445982785,\n",
       " 0.0019937099309074585,\n",
       " 0.0024822812640944575,\n",
       " 0.0014567406168379538,\n",
       " 0.0016908919687857044,\n",
       " 0.001484532304792216,\n",
       " 0.0011196140775217855,\n",
       " 0.0019110920521694802,\n",
       " -0.00027072030485622567,\n",
       " 0.0018076837003377921,\n",
       " 0.00044515294351733792,\n",
       " -0.00019493651453231231,\n",
       " -0.0006285793346214319,\n",
       " 0.002716246730504801,\n",
       " 0.0004448817893848156,\n",
       " 0.0027025819644204835,\n",
       " 0.00034163033176816404,\n",
       " 0.0031773196997048198,\n",
       " -0.00042891903466169001,\n",
       " 0.00072035487099079976,\n",
       " 0.00054815371146429981,\n",
       " 0.0014496882408203682,\n",
       " -0.00016061088361886411,\n",
       " 0.0024686847128862488,\n",
       " 0.00111919626140565,\n",
       " 0.0028470749992159788,\n",
       " 0.0021999144060578096,\n",
       " 0.002413261641936601,\n",
       " 0.0016013837243608886,\n",
       " 0.0025717161775274666,\n",
       " -0.00064249479037542523,\n",
       " 0.0016079415425267196,\n",
       " 0.0014362622268024178,\n",
       " 0.0031843618434909959,\n",
       " 0.0021313313591070221,\n",
       " 0.003879574227035415,\n",
       " 0.00081661875672216222,\n",
       " 0.0021450984475055029,\n",
       " 0.0014568344122926069,\n",
       " 0.002915946254018309,\n",
       " 0.0029711834394305775,\n",
       " 0.0003413182487099764,\n",
       " 0.0035972619408996542,\n",
       " -0.00046342884574063214,\n",
       " 0.0045951831427640671,\n",
       " 0.00014212692602347254,\n",
       " 0.0018698300105278176,\n",
       " 0.0022759096624976466,\n",
       " -0.00036035986291754751,\n",
       " 0.002303609260369141,\n",
       " 0.0015396449980555754,\n",
       " -0.0014617132918202796,\n",
       " 0.00032088078760009187,\n",
       " 0.0011127714622482104,\n",
       " 0.0011883591348033212,\n",
       " 0.0003347672520317424,\n",
       " 0.0022413810923277849,\n",
       " 0.0021107966917986859,\n",
       " 0.0018491640295829892,\n",
       " 0.0010503812838761062,\n",
       " 0.00072704741353694924,\n",
       " -0.00031894433780464693,\n",
       " 0.0031774254327627816,\n",
       " 0.0011056133531726631,\n",
       " 0.0025166989850906457,\n",
       " 0.0030261477653384106,\n",
       " 0.0020489863398734792,\n",
       " 0.0012501797189599512,\n",
       " 0.0031016604015297877,\n",
       " 0.0016218092478674506,\n",
       " 0.00096134372209641383,\n",
       " 0.0029778879195800217,\n",
       " 0.0014014983153099875,\n",
       " 0.001353211183601169,\n",
       " 0.0039688812375757304,\n",
       " 0.0032048385281546465,\n",
       " 0.0017457505616355756,\n",
       " 0.0028677426855327204,\n",
       " 0.0030807778383533241,\n",
       " 0.0035971510917259947,\n",
       " 0.0011194810585133941,\n",
       " 0.00044514782740162628,\n",
       " 0.0022549622951888726,\n",
       " 0.0019592001198285164,\n",
       " 0.00063783590382318622,\n",
       " 0.0029023991585952758,\n",
       " 0.0017938620400384242,\n",
       " 0.0012226318991877816,\n",
       " 0.0028333744203217076,\n",
       " 0.00099560625424946481,\n",
       " 0.0029088870565130986,\n",
       " 0.0024961830768732429,\n",
       " 0.0014225207189824951,\n",
       " 0.0019383772446686515,\n",
       " 0.0019863693470383026,\n",
       " -0.00042212928591710275,\n",
       " 0.0038589713448509838,\n",
       " -0.0017297230027801536,\n",
       " 0.00098881309476106516,\n",
       " 0.0023308143003888948,\n",
       " 0.00014885528137956183,\n",
       " 0.0036525912163946628,\n",
       " 0.0015600568785869295,\n",
       " 0.0014500344313165964,\n",
       " 0.001305534575033504,\n",
       " -0.00040861629793212395,\n",
       " 0.0017664370070432506,\n",
       " 0.00060365864026526439,\n",
       " 0.0011332293878209276,\n",
       " 0.001236603632214589,\n",
       " 0.0022205906192340613,\n",
       " 0.003404694945883191,\n",
       " 0.0036110426722733568,\n",
       " 0.0027507411932366083,\n",
       " 0.00044492101293856778,\n",
       " 0.00018367717551666385,\n",
       " -0.00090372327945020814,\n",
       " 0.0020348304266811917,\n",
       " 0.002743659825896666,\n",
       " 0.0025370869904153409,\n",
       " 0.0026200050146081844,\n",
       " 0.00028692692776141615,\n",
       " 0.00030713927978016919,\n",
       " -0.0008696159361403083,\n",
       " 0.001862769107650708,\n",
       " 0.0006444943389312674,\n",
       " -0.00082845280606899663,\n",
       " 0.0025165761983136498,\n",
       " 0.0030533886181680903,\n",
       " 0.0028745375503930193,\n",
       " 0.0016699394853612326,\n",
       " 0.003205072164105302,\n",
       " 0.0010784100185248224,\n",
       " 0.00094721338948267064,\n",
       " 0.0021107966917986859,\n",
       " 0.0021862786312958349,\n",
       " 0.0015598982789999799,\n",
       " 0.0021586967040856109,\n",
       " 0.00031404840455794003,\n",
       " 0.0004521950873035141,\n",
       " 0.002564868446138166,\n",
       " 0.002227890274177538,\n",
       " 0.0060956764021646292,\n",
       " 0.0012501268524309772,\n",
       " 0.0016629399758726071,\n",
       " 0.00197299619954934,\n",
       " 0.0023857394027429618,\n",
       " 0.0028883575053204741,\n",
       " 0.0020208586936544121,\n",
       " 0.0019318791145194053,\n",
       " 0.0029915816769866821,\n",
       " 0.002461721016207577,\n",
       " 0.00042438975637404397,\n",
       " 6.661599520398076e-05,\n",
       " 0.0039414544992086575,\n",
       " 0.0029295428052265177,\n",
       " 0.0034870825994142984,\n",
       " 0.0040652730261997866,\n",
       " 0.00098186815717332676,\n",
       " -0.0011517150507882462,\n",
       " 0.0038107507226463749,\n",
       " 0.0021861302639403085,\n",
       " 0.00085807180001692962,\n",
       " 0.0021796236069315522,\n",
       " 0.001167701680718003,\n",
       " 0.0039208771976027568,\n",
       " 0.00088550535987161338,\n",
       " 0.0017734620971104065,\n",
       " 0.002826436304221594,\n",
       " 0.0028195885728322934,\n",
       " 0.003514707160922087,\n",
       " 0.0019180284628977085,\n",
       " 0.003466807148635162,\n",
       " 0.0022549094286598986,\n",
       " 0.0025097148239491551,\n",
       " 0.0034389318974576838,\n",
       " 0.0013122765733648151,\n",
       " 5.2884719615453601e-05,\n",
       " 0.00034177358300797878,\n",
       " 0.0029158985036050328,\n",
       " 0.002227475868805201,\n",
       " 0.0019382288773131112,\n",
       " 0.0029914486579782906,\n",
       " 0.001718126000127787,\n",
       " 0.0033424684832137203,\n",
       " 0.000465317545122787,\n",
       " 0.0026062362208378043,\n",
       " 0.0023583263073511107,\n",
       " 0.0027437399783760974,\n",
       " 0.0028813545850880501,\n",
       " 0.0017802586673426046,\n",
       " 0.00076161350188867771,\n",
       " -0.00021577132729551363,\n",
       " 0.0023863601581155247,\n",
       " 0.0030122340149563026,\n",
       " 0.00014223095370952121,\n",
       " 0.0011404250150783557,\n",
       " 0.0017802160330450401,\n",
       " 0.0029983987116817268,\n",
       " 0.0039140567521639136,\n",
       " 0.0023718734027741301,\n",
       " 0.001642528095341253,\n",
       " 0.0016219866065453198,\n",
       " 0.0014224712631973058,\n",
       " 0.0010092931901685004,\n",
       " 0.00060345570100886481,\n",
       " 0.0021655768375410528,\n",
       " 9.3894366215513392e-05,\n",
       " 0.0010508741363559615,\n",
       " 0.0013331335559627483,\n",
       " 0.0029846742575808244,\n",
       " -0.00087643638157915149,\n",
       " 0.00040360098865221961,\n",
       " 0.00099588252449768488,\n",
       " 0.0032462711069865674,\n",
       " 8.0111929469925403e-05,\n",
       " 0.0028332891517265785,\n",
       " 0.00096123798903845203,\n",
       " 0.00275761279983254,\n",
       " 0.0020211793035721098,\n",
       " 0.0038655905564053128,\n",
       " 0.0016286944974385903,\n",
       " 0.00020428005770110891,\n",
       " 0.0016977993881915759,\n",
       " 0.0013329493757972682,\n",
       " 0.0015673548281584931,\n",
       " 0.0016703351316426363,\n",
       " 0.00026580731789048462,\n",
       " 0.0023790008151554493,\n",
       " 0.0027850514758029354,\n",
       " 0.0012913820725850289,\n",
       " 0.0016564196758886429,\n",
       " 0.0015187846047138298,\n",
       " 0.0028335330199086572,\n",
       " 0.0010575803218773328,\n",
       " 0.0026615313888947584,\n",
       " 0.0036177352148195063,\n",
       " 0.0033492991608839867,\n",
       " 0.00069976563178159035,\n",
       " 0.0031914312732276157,\n",
       " 0.0014911924452722103,\n",
       " 0.0016839180398756232,\n",
       " 0.00061008343942270393,\n",
       " 0.0027232394185058156,\n",
       " 0.00043146771297018771,\n",
       " 0.0021588058478873851,\n",
       " 0.00093372939282003464,\n",
       " -0.0001881962215729005,\n",
       " 0.00083049498892240337,\n",
       " 0.0023169534165357747,\n",
       " 0.0029295854395240822,\n",
       " 0.0023310871598933164,\n",
       " 0.0034455511090120128,\n",
       " 0.0017183118856651663,\n",
       " 0.0011126265056364965,\n",
       " 0.0021451018582493014,\n",
       " 0.0019592836830517463,\n",
       " 0.0013262261365568767,\n",
       " 0.0037556090380606449,\n",
       " 0.0026269806488901509,\n",
       " 0.0013536119459982843,\n",
       " 0.003197907233542116,\n",
       " -0.00022292602562726249,\n",
       " 0.0017458733484125716,\n",
       " 0.0008371602455181093,\n",
       " 0.0039619328892441935,\n",
       " 0.0015530897711644592,\n",
       " 0.0019936348945437388,\n",
       " 0.0046639878880622015,\n",
       " 0.0032121108971476658,\n",
       " 0.00061695163527480945,\n",
       " 0.0009063367618910162,\n",
       " 0.0012778793168314734,\n",
       " 0.00023866196588734345,\n",
       " 0.00167028738122936,\n",
       " 0.0024409817042709281,\n",
       " 0.0016839760225203226,\n",
       " 0.0010920713738653276,\n",
       " 0.00060317602001683235,\n",
       " 0.0050768828693551621,\n",
       " 0.0014704974730050113,\n",
       " 0.00082341532695436037,\n",
       " 0.0021860484060889918,\n",
       " 0.00024532892785493476,\n",
       " 0.00078224537539543781,\n",
       " 0.0020760430125376927,\n",
       " 0.0040308570105755115,\n",
       " 0.0027715077911237007,\n",
       " 0.0012293517276843607,\n",
       " 0.0035488758976204848,\n",
       " 0.0016427787850109427,\n",
       " 0.0011264328175887295,\n",
       " 0.0025719634564533439,\n",
       " 0.00045885352241160915,\n",
       " 0.0019386330504540389,\n",
       " 0.0027644588258499136,\n",
       " 0.0038449348076918938,\n",
       " 0.0018424442010863962,\n",
       " -0.00079374346647745342,\n",
       " 0.00082361997158268696,\n",
       " 0.0020279161857877231,\n",
       " 0.0014708385473855418,\n",
       " 0.0037692107053845791,\n",
       " 0.002027999749010953,\n",
       " 6.6585298509724833e-05,\n",
       " 0.0029091940234555747,\n",
       " 0.0018902845253567224,\n",
       " 0.00096118512250947807,\n",
       " 0.0027781559940003725,\n",
       " 0.0017596063293729841,\n",
       " 0.0019183081438897409,\n",
       " 0.0020074070990579174,\n",
       " 0.0021313825202640968,\n",
       " 0.0038451087556259644,\n",
       " -0.00011932155602677186,\n",
       " 0.002372118976328122,\n",
       " 0.0028471636785549204,\n",
       " 0.0019250723120557839,\n",
       " 0.0023099419694438406,\n",
       " 0.0027851759679518306,\n",
       " 0.0019456410868021745,\n",
       " 0.00053446165942953872,\n",
       " 0.0026129731030534037,\n",
       " 0.0026474658604133117,\n",
       " 0.0027645747911392848,\n",
       " -0.001048581263832879,\n",
       " 0.0034526921643685538,\n",
       " 0.002688581240071361,\n",
       " 0.0016081956429402078,\n",
       " 0.0011128891329095086,\n",
       " 0.0003481864445620958,\n",
       " 0.0022760324492746287,\n",
       " 0.0031085951068861029,\n",
       " 0.0030950360738597471,\n",
       " 2.556030356253014e-05,\n",
       " 0.00021084810809834931,\n",
       " 0.0026543528153563645,\n",
       " 0.0043476654648149787,\n",
       " 0.00288838820201473,\n",
       " 0.0034868046237941652,\n",
       " 0.00023838910638292188,\n",
       " 0.0023586230420621634,\n",
       " -0.00033276088198828935,\n",
       " 0.0019452710210993013,\n",
       " -0.00075935132605980948,\n",
       " 0.0037897078545110485,\n",
       " 0.0029434531448648132,\n",
       " 0.00061031537000146019,\n",
       " 0.0038928314092350064,\n",
       " 0.0014361121540749783,\n",
       " 0.00099563695094370686,\n",
       " 0.00072023378958571693,\n",
       " 0.001635809972216587,\n",
       " 0.0033841722161781634,\n",
       " 0.00067908600786152629,\n",
       " 0.0021035754839627274,\n",
       " 0.00067239005457159218,\n",
       " 0.0028610586698460949,\n",
       " 0.00038315500068282493,\n",
       " 0.0015806478231680382,\n",
       " 0.00096788278117131143,\n",
       " 0.0021243744839159751,\n",
       " 0.0032462745177303798,\n",
       " 0.0014496302581756826,\n",
       " 0.0031496644415027891,\n",
       " 0.0015185270935565431,\n",
       " 0.0037622504194497197,\n",
       " 0.0032047003930305296,\n",
       " 0.0018766299915038281,\n",
       " 0.0037966851941649421,\n",
       " 0.0025993390336633421,\n",
       " 0.0022551856989081187,\n",
       " 0.00082370865092162848,\n",
       " 0.0013742028905794207,\n",
       " 0.0020076083329424316,\n",
       " 3.8757797745522793e-05,\n",
       " 0.0027438917564754223,\n",
       " 0.0021314490297683064,\n",
       " 0.002805749858813919,\n",
       " 0.0027919213770269541,\n",
       " 0.0037486027070844363,\n",
       " 0.004395429047349686,\n",
       " 0.00118851091290266,\n",
       " 0.0021725814631453622,\n",
       " 0.00032796215494003411,\n",
       " 0.0011059629544127036,\n",
       " 0.0026336902451553346,\n",
       " 0.002220756040308608,\n",
       " 0.00079588797164502345,\n",
       " 0.0025372762866965326,\n",
       " 0.0016632060138894178,\n",
       " 0.00096775146753480534,\n",
       " 0.0027713236109582068,\n",
       " 0.001924912007096935,\n",
       " 0.00076848851922838024,\n",
       " 0.001030100716981272,\n",
       " 0.0031702298055053535,\n",
       " 0.002289664813292791,\n",
       " 0.00064458983975783368,\n",
       " 0.0034802092874464813,\n",
       " 0.001312337966753313,\n",
       " 0.0023102694008491492,\n",
       " 0.0018010764263867718,\n",
       " 0.0021862666936925262,\n",
       " 4.5020870800827062e-06,\n",
       " 0.0020348730609787702,\n",
       " 0.0034183119615542323,\n",
       " 0.0019798251718476934,\n",
       " 0.0039550612826482756,\n",
       " 0.00067219564217468886,\n",
       " 0.0014842986688415466,\n",
       " -7.1303873078562563e-05,\n",
       " 0.0030398074153070026,\n",
       " 0.0015185236828127446,\n",
       " 0.0021520297421180057,\n",
       " 0.0027507292556332996,\n",
       " 0.0021725712309139528,\n",
       " 7.3177224113610273e-05,\n",
       " -0.00035328020094950452,\n",
       " 0.0018560373415508064,\n",
       " 0.00033473655533750035,\n",
       " 0.001243420666909606,\n",
       " 0.0022484931563619831,\n",
       " 0.0023516883367058483,\n",
       " 0.00090643055734565547,\n",
       " 0.0017391842166102345,\n",
       " 0.0017528387504631288,\n",
       " 0.0010025034414239131,\n",
       " 0.0029779459022247073,\n",
       " 0.0031015546684718259,\n",
       " 0.0012572866668784516,\n",
       " 2.510838000832627e-05,\n",
       " 0.0022413640386087647,\n",
       " -0.00049811089938171793,\n",
       " 0.0032187386355615188,\n",
       " 0.0026542334393231809,\n",
       " 0.0023860207891069074,\n",
       " 0.0022206690663415796,\n",
       " 0.000892129687541654,\n",
       " 0.0019110698823347483,\n",
       " 0.00056197196101985536,\n",
       " 0.0027505672453025376,\n",
       " 0.00066511598020664586,\n",
       " 0.0028332720980075443,\n",
       " 0.00089227464415338187,\n",
       " 0.0014222717346846908,\n",
       " 0.0048636669471128768,\n",
       " 0.0035492357310919487,\n",
       " 0.001594399563219398,\n",
       " 0.0015461635926676542,\n",
       " 0.0024821874686398182,\n",
       " 0.00080976931996099011,\n",
       " 0.0037008544728968501,\n",
       " 0.00019027762798005943,\n",
       " 0.0023239188185863319,\n",
       " -0.00063571868460605974,\n",
       " 0.0018559179655176089,\n",
       " 0.00147759077794829,\n",
       " 0.00016273662969550073,\n",
       " 0.0018422446725737951,\n",
       " 0.0025513963870788664,\n",
       " 0.0022686884546616881,\n",
       " 0.00254393813254844,\n",
       " 0.00058948908409778289,\n",
       " 0.0024889874496158149,\n",
       " 0.0012504986235057497,\n",
       " 0.0011746721988842718,\n",
       " 0.0025926942415304827,\n",
       " 0.0016769355841060457,\n",
       " 0.0011056474606107036,\n",
       " 0.00072041455900739848,\n",
       " 0.0034252347293072249,\n",
       " 0.0037969358838346318,\n",
       " 0.001821687835430727,\n",
       " 0.0013051781523058525,\n",
       " 0.0023583126643758889,\n",
       " 0.0018077979602552502,\n",
       " 0.0022140003990020751,\n",
       " 0.00041744140804250707,\n",
       " 0.0025989894324233015,\n",
       " 0.0024824125777309636,\n",
       " 0.0017526272843472052,\n",
       " 0.00019711683250983603,\n",
       " 0.0019385989430159845,\n",
       " 0.0013327634902598751,\n",
       " 0.00017660092429243324,\n",
       " 0.0011330230378207157,\n",
       " 0.0032943757639018051,\n",
       " 0.0014843037849572582,\n",
       " 0.0018007507003533624,\n",
       " 0.001876621464644318,\n",
       " 0.0010229750099718521,\n",
       " 0.0037830477140310542,\n",
       " 0.0020966782967882652,\n",
       " 0.003094959332124142,\n",
       " 0.0034184279268436035,\n",
       " 0.001601393956592298,\n",
       " 0.0025925032398773779,\n",
       " 0.0035421407207767847,\n",
       " 0.0022552726728751471,\n",
       " 0.0027300172296470943,\n",
       " 0.0035903511107499841,\n",
       " 0.0031568941761982577,\n",
       " 0.0028608472037301713,\n",
       " 0.0021588041425154719,\n",
       " 0.0016492462184659468,\n",
       " 0.002681922804963266,\n",
       " 0.0012433149338516442,\n",
       " 0.0032116095178083004,\n",
       " 0.0033220054415253053,\n",
       " 0.0019043705183010018,\n",
       " 0.00054124629205842822,\n",
       " 0.0018421576986067528,\n",
       " 0.0017322682703448389,\n",
       " 0.003032877826066413,\n",
       " 0.0014568958056811049,\n",
       " 0.00091302418832144017,\n",
       " 0.0025372370631427804,\n",
       " 0.0008442723095522936,\n",
       " 0.0018008530226675257,\n",
       " 0.00067888647934892521,\n",
       " 0.00067905701653918349,\n",
       " -0.00037386091329920379,\n",
       " 0.003542280561272787,\n",
       " 0.002372072931286745,\n",
       " 0.0046157877303204115,\n",
       " 0.0015393960137577989,\n",
       " 0.00080975226624195595,\n",
       " 0.00032795021733672547,\n",
       " 0.0010644638660765732,\n",
       " 0.0010231165558397676,\n",
       " 0.00076170218122760536,\n",
       " 0.0013121895993977867,\n",
       " 0.0020692958980906562,\n",
       " -0.00047056990109714536,\n",
       " 0.00085126670292522133,\n",
       " -0.00089708189806116112,\n",
       " 1.1256023014730165e-05,\n",
       " 0.0012986646738094854,\n",
       " 0.0034664643688827462,\n",
       " 0.0021380648305788369,\n",
       " 0.0015805625545729091,\n",
       " 0.00088569124540900657,\n",
       " 6.6443752641795473e-05,\n",
       " 0.0039550339966978321,\n",
       " 0.0018148827383390187,\n",
       " 0.0017941962929313438,\n",
       " 0.0023514871028213341,\n",
       " 0.0018696270712714042,\n",
       " 0.0033426850654453555,\n",
       " 0.00089922810860061653,\n",
       " 0.0036318911280117799,\n",
       " -0.00024355448839023797,\n",
       " 0.00027979269389249994,\n",
       " 0.0014636957866571154,\n",
       " 0.00037634478747540501,\n",
       " 0.0021381586260334762,\n",
       " 0.0021175421008738093,\n",
       " 0.0014362843966371636,\n",
       " 0.002668147189705275,\n",
       " 0.0040103513345895181,\n",
       " 0.0026679817686307283,\n",
       " 0.00086498604091039821,\n",
       " 0.0018973232583991001,\n",
       " 0.0035216947328073761,\n",
       " 0.0025235160197856765,\n",
       " 0.0034596353965843929,\n",
       " 0.0031430025956508817,\n",
       " 0.0038449962010803918,\n",
       " 0.003184223708366879,\n",
       " -0.00015359261503931909,\n",
       " 0.0027298722730353664,\n",
       " 0.0029777566059435157,\n",
       " 0.00060344546877745542,\n",
       " 0.0018764782134045033,\n",
       " 0.0010163933165993899,\n",
       " 0.0018766760365452051,\n",
       " 0.0011402186650781299,\n",
       " 0.0027436990494504321,\n",
       " 0.0036385495631198611,\n",
       " 0.0022551754666767093,\n",
       " 0.0019591489586714417,\n",
       " 0.0020621957716597944,\n",
       " 0.0022619788583965184,\n",
       " 0.0027231456230511625,\n",
       " 0.0012022234294002537,\n",
       " 0.0030326527169752537,\n",
       " 0.0016978676030676848,\n",
       " 0.0019041232393751106,\n",
       " 0.0030256839041808842,\n",
       " 0.0053522485125312713,\n",
       " -0.00073898207982604769,\n",
       " 0.0022413299311707102,\n",
       " 0.0005553391064903046,\n",
       " 0.0029847663476635644,\n",
       " 0.00398257670035429,\n",
       " 0.0035008138750028117,\n",
       " 0.0028332089992471471,\n",
       " 0.00249592215497213,\n",
       " 0.00013533206116315977,\n",
       " 0.0025922491394638897,\n",
       " 0.00075448608950735851,\n",
       " 0.0019109794976239214,\n",
       " 0.0016905850018432284,\n",
       " 0.0023789581808578847,\n",
       " 0.0015804141872173827,\n",
       " 0.0025235074929261664,\n",
       " 0.0009337208659605245,\n",
       " 0.0023790639139158465,\n",
       " -0.00053914612656032201,\n",
       " 0.0047946422088392948,\n",
       " -0.0010691875567611087,\n",
       " 0.0016976339671170293,\n",
       " 0.00050025199380547558,\n",
       " 0.0030467796388451845,\n",
       " 0.003239418259481569,\n",
       " 0.0026403896091890811,\n",
       " 0.0016288104627279615,\n",
       " 0.00052094014458504978,\n",
       " 0.0017664063103489946,\n",
       " 0.0047193563871109623,\n",
       " 0.0030811717792628424,\n",
       " 0.00015592982723187931,\n",
       " -0.0010482384840804354,\n",
       " 0.0017872274801369742,\n",
       " 0.0027026928135941708,\n",
       " 0.002826543742651455,\n",
       " 0.0029985232038306081,\n",
       " 0.0025995010439940902,\n",
       " -0.0004978175754144637,\n",
       " 0.0026061083179451106,\n",
       " 0.0023790792622629814,\n",
       " 0.0018351991180438065,\n",
       " 0.0014363543168851578,\n",
       " 0.00049324907357305159,\n",
       " 0.001395037703342622,\n",
       " 0.0022753929348111462,\n",
       " 0.0020072229188924373,\n",
       " 0.0020144594750755168,\n",
       " -0.00073186489967613788,\n",
       " 0.00010095867983643536,\n",
       " 0.0007066099524270647,\n",
       " 0.0044437878046784118,\n",
       " 0.0030603454933591512,\n",
       " 0.003101762723843951,\n",
       " 0.0014363048610999823,\n",
       " 0.00074766223332470294,\n",
       " 0.0020141252221825973,\n",
       " 0.0014636122234338855,\n",
       " 0.0016356735424643692,\n",
       " 0.0051320211431970658,\n",
       " 0.0015048179878027618,\n",
       " 0.00093377543786141159,\n",
       " 0.0025236473334221687,\n",
       " -0.0018814287185520973,\n",
       " 0.002379137244907667,\n",
       " 0.0014155075665186478,\n",
       " 0.003734724769512282,\n",
       " 0.0041412290590858575,\n",
       " 0.0027507701845589511,\n",
       " -0.00015377679520479914,\n",
       " 0.0039827728181230926,\n",
       " 0.0016291685908275122,\n",
       " ...]"
      ]
     },
     "execution_count": 50,
     "metadata": {},
     "output_type": "execute_result"
    }
   ],
   "source": [
    "p_diffs = []\n",
    "for i in range(10000):\n",
    "    new_page_converted = np.random.binomial(1,Pnew,Nnew)\n",
    "    old_page_converted = np.random.binomial(1,Pold,Nold)\n",
    "    p_diff_sim = new_page_converted.mean() - old_page_converted.mean()\n",
    "    p_diffs.append(p_diff_sim)\n",
    "    \n",
    "p_diffs"
   ]
  },
  {
   "cell_type": "markdown",
   "metadata": {},
   "source": [
    "i. Plot a histogram of the **p_diffs**.  Does this plot look like what you expected?  Use the matching problem in the classroom to assure you fully understand what was computed here."
   ]
  },
  {
   "cell_type": "code",
   "execution_count": 51,
   "metadata": {},
   "outputs": [
    {
     "data": {
      "image/png": "[encoded data removed]",
      "text/plain": [
       "<matplotlib.figure.Figure at 0x134c173e860>"
      ]
     },
     "metadata": {},
     "output_type": "display_data"
    }
   ],
   "source": [
    "plt.hist(p_diffs);"
   ]
  },
  {
   "cell_type": "markdown",
   "metadata": {},
   "source": [
    "j. What proportion of the **p_diffs** are greater than the actual difference observed in **ab_data.csv**?"
   ]
  },
  {
   "cell_type": "code",
   "execution_count": 52,
   "metadata": {},
   "outputs": [
    {
     "data": {
      "text/plain": [
       "0.0019386142532859488"
      ]
     },
     "execution_count": 52,
     "metadata": {},
     "output_type": "execute_result"
    }
   ],
   "source": [
    "null_vals = np.mean(p_diffs)\n",
    "null_vals"
   ]
  },
  {
   "cell_type": "markdown",
   "metadata": {},
   "source": [
    "k. In words, explain what you just computed in part **j.**.  What is this value called in scientific studies?  What does this value mean in terms of whether or not there is a difference between the new and old pages?"
   ]
  },
  {
   "cell_type": "markdown",
   "metadata": {},
   "source": [
    "There is no significant evidence to say that the there is a difference between new and old pages.\n",
    "\n"
   ]
  },
  {
   "cell_type": "markdown",
   "metadata": {},
   "source": [
    "l. We could also use a built-in to achieve similar results.  Though using the built-in might be easier to code, the above portions are a walkthrough of the ideas that are critical to correctly thinking about statistical significance. Fill in the below to calculate the number of conversions for each page, as well as the number of individuals who received each page. Let `n_old` and `n_new` refer the the number of rows associated with the old page and new pages, respectively."
   ]
  },
  {
   "cell_type": "code",
   "execution_count": 204,
   "metadata": {},
   "outputs": [],
   "source": [
    "import statsmodels.api as sm\n",
    "\n",
    "convert_old = df2[(df2['group'] == 'control') & (df2['converted'] == 1)]['user_id'].count()\n",
    "convert_new = df2[(df2['group'] == 'treatment') & (df2['converted'] == 1)]['user_id'].count()\n"
   ]
  },
  {
   "cell_type": "code",
   "execution_count": 205,
   "metadata": {},
   "outputs": [],
   "source": [
    "n_old = df2.query('landing_page == \"old_page\"').user_id.count()\n",
    "n_new = df2.query('landing_page == \"new_page\"').user_id.count()"
   ]
  },
  {
   "cell_type": "markdown",
   "metadata": {},
   "source": [
    "m. Now use `stats.proportions_ztest` to compute your test statistic and p-value.  [Here](http://knowledgetack.com/python/statsmodels/proportions_ztest/) is a helpful link on using the built in."
   ]
  },
  {
   "cell_type": "code",
   "execution_count": 206,
   "metadata": {},
   "outputs": [
    {
     "data": {
      "text/plain": [
       "1.3109241984234394"
      ]
     },
     "execution_count": 206,
     "metadata": {},
     "output_type": "execute_result"
    }
   ],
   "source": [
    "z_Score,p_score = sm.stats.proportions_ztest([convert_old,convert_new],[n_old,n_new])\n",
    "\n",
    "z_Score"
   ]
  },
  {
   "cell_type": "code",
   "execution_count": 207,
   "metadata": {},
   "outputs": [
    {
     "data": {
      "text/plain": [
       "0.18988337448195103"
      ]
     },
     "execution_count": 207,
     "metadata": {},
     "output_type": "execute_result"
    }
   ],
   "source": [
    "p_score"
   ]
  },
  {
   "cell_type": "code",
   "execution_count": 208,
   "metadata": {},
   "outputs": [
    {
     "data": {
      "text/plain": [
       "1.959963984540054"
      ]
     },
     "execution_count": 208,
     "metadata": {},
     "output_type": "execute_result"
    }
   ],
   "source": [
    "from scipy.stats import norm\n",
    "\n",
    "norm.ppf(1-(0.05/2))  # z score for 95% level of confidence"
   ]
  },
  {
   "cell_type": "markdown",
   "metadata": {},
   "source": [
    "n. What do the z-score and p-value you computed in the previous question mean for the conversion rates of the old and new pages?  Do they agree with the findings in parts **j.** and **k.**?"
   ]
  },
  {
   "cell_type": "markdown",
   "metadata": {},
   "source": [
    "    Since the z-score of 1.31 doesnt exceed the critical value of 1.95, we fail to reject Null Hypothesis ie) there is no significant diifference between old and new page conversions."
   ]
  },
  {
   "cell_type": "markdown",
   "metadata": {},
   "source": [
    "<a id='regression'></a>\n",
    "### Part III - A regression approach\n",
    "\n",
    "`1.` In this final part, you will see that the result you acheived in the previous A/B test can also be acheived by performing regression.<br><br>\n",
    "\n",
    "a. Since each row is either a conversion or no conversion, what type of regression should you be performing in this case?"
   ]
  },
  {
   "cell_type": "markdown",
   "metadata": {},
   "source": [
    "Logistic Regression"
   ]
  },
  {
   "cell_type": "markdown",
   "metadata": {},
   "source": [
    "b. The goal is to use **statsmodels** to fit the regression model you specified in part **a.** to see if there is a significant difference in conversion based on which page a customer receives.  However, you first need to create a colun for the intercept, and create a dummy variable column for which page each user received.  Add an **intercept** column, as well as an **ab_page** column, which is 1 when an individual receives the **treatment** and 0 if **control**."
   ]
  },
  {
   "cell_type": "code",
   "execution_count": 209,
   "metadata": {},
   "outputs": [
    {
     "data": {
      "text/html": [
       "<div>\n",
       "<style>\n",
       "    .dataframe thead tr:only-child th {\n",
       "        text-align: right;\n",
       "    }\n",
       "\n",
       "    .dataframe thead th {\n",
       "        text-align: left;\n",
       "    }\n",
       "\n",
       "    .dataframe tbody tr th {\n",
       "        vertical-align: top;\n",
       "    }\n",
       "</style>\n",
       "<table border=\"1\" class=\"dataframe\">\n",
       "  <thead>\n",
       "    <tr style=\"text-align: right;\">\n",
       "      <th></th>\n",
       "      <th>user_id</th>\n",
       "      <th>timestamp</th>\n",
       "      <th>group</th>\n",
       "      <th>landing_page</th>\n",
       "      <th>converted</th>\n",
       "    </tr>\n",
       "  </thead>\n",
       "  <tbody>\n",
       "    <tr>\n",
       "      <th>0</th>\n",
       "      <td>851104</td>\n",
       "      <td>2017-01-21 22:11:48.556739</td>\n",
       "      <td>control</td>\n",
       "      <td>old_page</td>\n",
       "      <td>0</td>\n",
       "    </tr>\n",
       "    <tr>\n",
       "      <th>1</th>\n",
       "      <td>804228</td>\n",
       "      <td>2017-01-12 08:01:45.159739</td>\n",
       "      <td>control</td>\n",
       "      <td>old_page</td>\n",
       "      <td>0</td>\n",
       "    </tr>\n",
       "  </tbody>\n",
       "</table>\n",
       "</div>"
      ],
      "text/plain": [
       "   user_id                   timestamp    group landing_page  converted\n",
       "0   851104  2017-01-21 22:11:48.556739  control     old_page          0\n",
       "1   804228  2017-01-12 08:01:45.159739  control     old_page          0"
      ]
     },
     "execution_count": 209,
     "metadata": {},
     "output_type": "execute_result"
    }
   ],
   "source": [
    "df2.head(2)"
   ]
  },
  {
   "cell_type": "code",
   "execution_count": 210,
   "metadata": {},
   "outputs": [
    {
     "data": {
      "text/html": [
       "<div>\n",
       "<style>\n",
       "    .dataframe thead tr:only-child th {\n",
       "        text-align: right;\n",
       "    }\n",
       "\n",
       "    .dataframe thead th {\n",
       "        text-align: left;\n",
       "    }\n",
       "\n",
       "    .dataframe tbody tr th {\n",
       "        vertical-align: top;\n",
       "    }\n",
       "</style>\n",
       "<table border=\"1\" class=\"dataframe\">\n",
       "  <thead>\n",
       "    <tr style=\"text-align: right;\">\n",
       "      <th></th>\n",
       "      <th>user_id</th>\n",
       "      <th>timestamp</th>\n",
       "      <th>group</th>\n",
       "      <th>landing_page</th>\n",
       "      <th>converted</th>\n",
       "      <th>intercept</th>\n",
       "      <th>ab_page</th>\n",
       "    </tr>\n",
       "  </thead>\n",
       "  <tbody>\n",
       "    <tr>\n",
       "      <th>0</th>\n",
       "      <td>851104</td>\n",
       "      <td>2017-01-21 22:11:48.556739</td>\n",
       "      <td>control</td>\n",
       "      <td>old_page</td>\n",
       "      <td>0</td>\n",
       "      <td>1</td>\n",
       "      <td>0</td>\n",
       "    </tr>\n",
       "    <tr>\n",
       "      <th>1</th>\n",
       "      <td>804228</td>\n",
       "      <td>2017-01-12 08:01:45.159739</td>\n",
       "      <td>control</td>\n",
       "      <td>old_page</td>\n",
       "      <td>0</td>\n",
       "      <td>1</td>\n",
       "      <td>0</td>\n",
       "    </tr>\n",
       "    <tr>\n",
       "      <th>2</th>\n",
       "      <td>661590</td>\n",
       "      <td>2017-01-11 16:55:06.154213</td>\n",
       "      <td>treatment</td>\n",
       "      <td>new_page</td>\n",
       "      <td>0</td>\n",
       "      <td>1</td>\n",
       "      <td>1</td>\n",
       "    </tr>\n",
       "    <tr>\n",
       "      <th>3</th>\n",
       "      <td>853541</td>\n",
       "      <td>2017-01-08 18:28:03.143765</td>\n",
       "      <td>treatment</td>\n",
       "      <td>new_page</td>\n",
       "      <td>0</td>\n",
       "      <td>1</td>\n",
       "      <td>1</td>\n",
       "    </tr>\n",
       "    <tr>\n",
       "      <th>4</th>\n",
       "      <td>864975</td>\n",
       "      <td>2017-01-21 01:52:26.210827</td>\n",
       "      <td>control</td>\n",
       "      <td>old_page</td>\n",
       "      <td>1</td>\n",
       "      <td>1</td>\n",
       "      <td>0</td>\n",
       "    </tr>\n",
       "  </tbody>\n",
       "</table>\n",
       "</div>"
      ],
      "text/plain": [
       "   user_id                   timestamp      group landing_page  converted  \\\n",
       "0   851104  2017-01-21 22:11:48.556739    control     old_page          0   \n",
       "1   804228  2017-01-12 08:01:45.159739    control     old_page          0   \n",
       "2   661590  2017-01-11 16:55:06.154213  treatment     new_page          0   \n",
       "3   853541  2017-01-08 18:28:03.143765  treatment     new_page          0   \n",
       "4   864975  2017-01-21 01:52:26.210827    control     old_page          1   \n",
       "\n",
       "   intercept  ab_page  \n",
       "0          1        0  \n",
       "1          1        0  \n",
       "2          1        1  \n",
       "3          1        1  \n",
       "4          1        0  "
      ]
     },
     "execution_count": 210,
     "metadata": {},
     "output_type": "execute_result"
    }
   ],
   "source": [
    "df2['intercept'] = 1\n",
    "\n",
    "df2[['ab_page','old_page']] = pd.get_dummies(df['landing_page'])\n",
    "\n",
    "df2 = df2.drop('old_page',axis=1)\n",
    "\n",
    "df2.head()"
   ]
  },
  {
   "cell_type": "markdown",
   "metadata": {},
   "source": [
    "c. Use **statsmodels** to import your regression model.  Instantiate the model, and fit the model using the two columns you created in part **b.** to predict whether or not an individual converts."
   ]
  },
  {
   "cell_type": "code",
   "execution_count": 211,
   "metadata": {},
   "outputs": [],
   "source": [
    "logit_mod = sm.Logit(df2['ab_page'],df2[['intercept','converted']])"
   ]
  },
  {
   "cell_type": "markdown",
   "metadata": {},
   "source": [
    "d. Provide the summary of your model below, and use it as necessary to answer the following questions."
   ]
  },
  {
   "cell_type": "code",
   "execution_count": 212,
   "metadata": {},
   "outputs": [
    {
     "name": "stdout",
     "output_type": "stream",
     "text": [
      "Optimization terminated successfully.\n",
      "         Current function value: 0.752584\n",
      "         Iterations 3\n"
     ]
    },
    {
     "data": {
      "text/html": [
       "<table class=\"simpletable\">\n",
       "<caption>Logit Regression Results</caption>\n",
       "<tr>\n",
       "  <th>Dep. Variable:</th>      <td>ab_page</td>     <th>  No. Observations:  </th>   <td>290584</td>   \n",
       "</tr>\n",
       "<tr>\n",
       "  <th>Model:</th>               <td>Logit</td>      <th>  Df Residuals:      </th>   <td>290582</td>   \n",
       "</tr>\n",
       "<tr>\n",
       "  <th>Method:</th>               <td>MLE</td>       <th>  Df Model:          </th>   <td>     1</td>   \n",
       "</tr>\n",
       "<tr>\n",
       "  <th>Date:</th>          <td>Sun, 04 Mar 2018</td> <th>  Pseudo R-squ.:     </th>   <td>-0.1108</td>  \n",
       "</tr>\n",
       "<tr>\n",
       "  <th>Time:</th>              <td>02:29:22</td>     <th>  Log-Likelihood:    </th> <td>-2.1869e+05</td>\n",
       "</tr>\n",
       "<tr>\n",
       "  <th>converged:</th>           <td>True</td>       <th>  LL-Null:           </th> <td>-1.9688e+05</td>\n",
       "</tr>\n",
       "<tr>\n",
       "  <th> </th>                      <td> </td>        <th>  LLR p-value:       </th>   <td> 1.000</td>   \n",
       "</tr>\n",
       "</table>\n",
       "<table class=\"simpletable\">\n",
       "<tr>\n",
       "      <td></td>         <th>coef</th>     <th>std err</th>      <th>z</th>      <th>P>|z|</th>  <th>[0.025</th>    <th>0.975]</th>  \n",
       "</tr>\n",
       "<tr>\n",
       "  <th>intercept</th> <td>    0.0020</td> <td>    0.004</td> <td>    0.516</td> <td> 0.606</td> <td>   -0.006</td> <td>    0.010</td>\n",
       "</tr>\n",
       "<tr>\n",
       "  <th>converted</th> <td>   -0.0150</td> <td>    0.011</td> <td>   -1.311</td> <td> 0.190</td> <td>   -0.037</td> <td>    0.007</td>\n",
       "</tr>\n",
       "</table>"
      ],
      "text/plain": [
       "<class 'statsmodels.iolib.summary.Summary'>\n",
       "\"\"\"\n",
       "                           Logit Regression Results                           \n",
       "==============================================================================\n",
       "Dep. Variable:                ab_page   No. Observations:               290584\n",
       "Model:                          Logit   Df Residuals:                   290582\n",
       "Method:                           MLE   Df Model:                            1\n",
       "Date:                Sun, 04 Mar 2018   Pseudo R-squ.:                 -0.1108\n",
       "Time:                        02:29:22   Log-Likelihood:            -2.1869e+05\n",
       "converged:                       True   LL-Null:                   -1.9688e+05\n",
       "                                        LLR p-value:                     1.000\n",
       "==============================================================================\n",
       "                 coef    std err          z      P>|z|      [0.025      0.975]\n",
       "------------------------------------------------------------------------------\n",
       "intercept      0.0020      0.004      0.516      0.606      -0.006       0.010\n",
       "converted     -0.0150      0.011     -1.311      0.190      -0.037       0.007\n",
       "==============================================================================\n",
       "\"\"\""
      ]
     },
     "execution_count": 212,
     "metadata": {},
     "output_type": "execute_result"
    }
   ],
   "source": [
    "results = logit_mod.fit()\n",
    "results.summary()"
   ]
  },
  {
   "cell_type": "code",
   "execution_count": 213,
   "metadata": {},
   "outputs": [
    {
     "data": {
      "text/plain": [
       "1.0151130646157189"
      ]
     },
     "execution_count": 213,
     "metadata": {},
     "output_type": "execute_result"
    }
   ],
   "source": [
    "1/np.exp(-0.0150)"
   ]
  },
  {
   "cell_type": "markdown",
   "metadata": {},
   "source": [
    "e. What is the p-value associated with **ab_page**? Why does it differ from the value you found in the **Part II**?<br><br>  **Hint**: What are the null and alternative hypotheses associated with your regression model, and how do they compare to the null and alternative hypotheses in the **Part II**?"
   ]
  },
  {
   "cell_type": "markdown",
   "metadata": {},
   "source": [
    "P-value of ab_page is 0.190.\n",
    "Also, for every 1 unit decrease, ab_page is 1.015 times likely holding all else is constant"
   ]
  },
  {
   "cell_type": "markdown",
   "metadata": {},
   "source": [
    "f. Now, you are considering other things that might influence whether or not an individual converts.  Discuss why it is a good idea to consider other factors to add into your regression model.  Are there any disadvantages to adding additional terms into your regression model?"
   ]
  },
  {
   "cell_type": "markdown",
   "metadata": {},
   "source": [
    "I will say we should use the right amount of predictors to get most presice estimates.Becoz taking very few predictors may result in produce biased estimates also taking more predictors may lead to less presice estimates."
   ]
  },
  {
   "cell_type": "markdown",
   "metadata": {},
   "source": [
    "g. Now along with testing if the conversion rate changes for different pages, also add an effect based on which country a user lives. You will need to read in the **countries.csv** dataset and merge together your datasets on the approporiate rows.  [Here](https://pandas.pydata.org/pandas-docs/stable/generated/pandas.DataFrame.join.html) are the docs for joining tables. \n",
    "\n",
    "Does it appear that country had an impact on conversion?  Don't forget to create dummy variables for these country columns - **Hint: You will need two columns for the three dummy varaibles.** Provide the statistical output as well as a written response to answer this question."
   ]
  },
  {
   "cell_type": "code",
   "execution_count": 214,
   "metadata": {},
   "outputs": [
    {
     "data": {
      "text/html": [
       "<div>\n",
       "<style>\n",
       "    .dataframe thead tr:only-child th {\n",
       "        text-align: right;\n",
       "    }\n",
       "\n",
       "    .dataframe thead th {\n",
       "        text-align: left;\n",
       "    }\n",
       "\n",
       "    .dataframe tbody tr th {\n",
       "        vertical-align: top;\n",
       "    }\n",
       "</style>\n",
       "<table border=\"1\" class=\"dataframe\">\n",
       "  <thead>\n",
       "    <tr style=\"text-align: right;\">\n",
       "      <th></th>\n",
       "      <th>user_id</th>\n",
       "      <th>country</th>\n",
       "    </tr>\n",
       "  </thead>\n",
       "  <tbody>\n",
       "    <tr>\n",
       "      <th>0</th>\n",
       "      <td>834778</td>\n",
       "      <td>UK</td>\n",
       "    </tr>\n",
       "    <tr>\n",
       "      <th>1</th>\n",
       "      <td>928468</td>\n",
       "      <td>US</td>\n",
       "    </tr>\n",
       "    <tr>\n",
       "      <th>2</th>\n",
       "      <td>822059</td>\n",
       "      <td>UK</td>\n",
       "    </tr>\n",
       "    <tr>\n",
       "      <th>3</th>\n",
       "      <td>711597</td>\n",
       "      <td>UK</td>\n",
       "    </tr>\n",
       "    <tr>\n",
       "      <th>4</th>\n",
       "      <td>710616</td>\n",
       "      <td>UK</td>\n",
       "    </tr>\n",
       "  </tbody>\n",
       "</table>\n",
       "</div>"
      ],
      "text/plain": [
       "   user_id country\n",
       "0   834778      UK\n",
       "1   928468      US\n",
       "2   822059      UK\n",
       "3   711597      UK\n",
       "4   710616      UK"
      ]
     },
     "execution_count": 214,
     "metadata": {},
     "output_type": "execute_result"
    }
   ],
   "source": [
    "#caller.join(other, lsuffix='_caller', rsuffix='_other')\n",
    "\n",
    "df3 = pd.read_csv('countries.csv')\n",
    "#df3.set_index('user_id', inplace=True)\n",
    "df3.head()"
   ]
  },
  {
   "cell_type": "code",
   "execution_count": 215,
   "metadata": {},
   "outputs": [],
   "source": [
    "df2.head()\n",
    "df2 = df2.set_index('user_id').join(df3.set_index('user_id'))"
   ]
  },
  {
   "cell_type": "code",
   "execution_count": 216,
   "metadata": {},
   "outputs": [
    {
     "data": {
      "text/html": [
       "<div>\n",
       "<style>\n",
       "    .dataframe thead tr:only-child th {\n",
       "        text-align: right;\n",
       "    }\n",
       "\n",
       "    .dataframe thead th {\n",
       "        text-align: left;\n",
       "    }\n",
       "\n",
       "    .dataframe tbody tr th {\n",
       "        vertical-align: top;\n",
       "    }\n",
       "</style>\n",
       "<table border=\"1\" class=\"dataframe\">\n",
       "  <thead>\n",
       "    <tr style=\"text-align: right;\">\n",
       "      <th></th>\n",
       "      <th>timestamp</th>\n",
       "      <th>group</th>\n",
       "      <th>landing_page</th>\n",
       "      <th>converted</th>\n",
       "      <th>intercept</th>\n",
       "      <th>ab_page</th>\n",
       "      <th>country</th>\n",
       "    </tr>\n",
       "    <tr>\n",
       "      <th>user_id</th>\n",
       "      <th></th>\n",
       "      <th></th>\n",
       "      <th></th>\n",
       "      <th></th>\n",
       "      <th></th>\n",
       "      <th></th>\n",
       "      <th></th>\n",
       "    </tr>\n",
       "  </thead>\n",
       "  <tbody>\n",
       "    <tr>\n",
       "      <th>630000</th>\n",
       "      <td>2017-01-19 06:26:06.548941</td>\n",
       "      <td>treatment</td>\n",
       "      <td>new_page</td>\n",
       "      <td>0</td>\n",
       "      <td>1</td>\n",
       "      <td>1</td>\n",
       "      <td>US</td>\n",
       "    </tr>\n",
       "    <tr>\n",
       "      <th>630001</th>\n",
       "      <td>2017-01-16 03:16:42.560309</td>\n",
       "      <td>treatment</td>\n",
       "      <td>new_page</td>\n",
       "      <td>1</td>\n",
       "      <td>1</td>\n",
       "      <td>1</td>\n",
       "      <td>US</td>\n",
       "    </tr>\n",
       "  </tbody>\n",
       "</table>\n",
       "</div>"
      ],
      "text/plain": [
       "                          timestamp      group landing_page  converted  \\\n",
       "user_id                                                                  \n",
       "630000   2017-01-19 06:26:06.548941  treatment     new_page          0   \n",
       "630001   2017-01-16 03:16:42.560309  treatment     new_page          1   \n",
       "\n",
       "         intercept  ab_page country  \n",
       "user_id                              \n",
       "630000           1        1      US  \n",
       "630001           1        1      US  "
      ]
     },
     "execution_count": 216,
     "metadata": {},
     "output_type": "execute_result"
    }
   ],
   "source": [
    "df2.head(2)"
   ]
  },
  {
   "cell_type": "code",
   "execution_count": 217,
   "metadata": {},
   "outputs": [
    {
     "data": {
      "text/plain": [
       "array(['US', 'UK', 'CA'], dtype=object)"
      ]
     },
     "execution_count": 217,
     "metadata": {},
     "output_type": "execute_result"
    }
   ],
   "source": [
    "df2['country'].unique()"
   ]
  },
  {
   "cell_type": "code",
   "execution_count": 218,
   "metadata": {},
   "outputs": [
    {
     "data": {
      "text/html": [
       "<div>\n",
       "<style>\n",
       "    .dataframe thead tr:only-child th {\n",
       "        text-align: right;\n",
       "    }\n",
       "\n",
       "    .dataframe thead th {\n",
       "        text-align: left;\n",
       "    }\n",
       "\n",
       "    .dataframe tbody tr th {\n",
       "        vertical-align: top;\n",
       "    }\n",
       "</style>\n",
       "<table border=\"1\" class=\"dataframe\">\n",
       "  <thead>\n",
       "    <tr style=\"text-align: right;\">\n",
       "      <th></th>\n",
       "      <th>timestamp</th>\n",
       "      <th>group</th>\n",
       "      <th>landing_page</th>\n",
       "      <th>converted</th>\n",
       "      <th>intercept</th>\n",
       "      <th>ab_page</th>\n",
       "      <th>country</th>\n",
       "      <th>CA</th>\n",
       "      <th>UK</th>\n",
       "      <th>US</th>\n",
       "    </tr>\n",
       "    <tr>\n",
       "      <th>user_id</th>\n",
       "      <th></th>\n",
       "      <th></th>\n",
       "      <th></th>\n",
       "      <th></th>\n",
       "      <th></th>\n",
       "      <th></th>\n",
       "      <th></th>\n",
       "      <th></th>\n",
       "      <th></th>\n",
       "      <th></th>\n",
       "    </tr>\n",
       "  </thead>\n",
       "  <tbody>\n",
       "    <tr>\n",
       "      <th>630000</th>\n",
       "      <td>2017-01-19 06:26:06.548941</td>\n",
       "      <td>treatment</td>\n",
       "      <td>new_page</td>\n",
       "      <td>0</td>\n",
       "      <td>1</td>\n",
       "      <td>1</td>\n",
       "      <td>US</td>\n",
       "      <td>0</td>\n",
       "      <td>0</td>\n",
       "      <td>1</td>\n",
       "    </tr>\n",
       "    <tr>\n",
       "      <th>630001</th>\n",
       "      <td>2017-01-16 03:16:42.560309</td>\n",
       "      <td>treatment</td>\n",
       "      <td>new_page</td>\n",
       "      <td>1</td>\n",
       "      <td>1</td>\n",
       "      <td>1</td>\n",
       "      <td>US</td>\n",
       "      <td>0</td>\n",
       "      <td>0</td>\n",
       "      <td>1</td>\n",
       "    </tr>\n",
       "    <tr>\n",
       "      <th>630002</th>\n",
       "      <td>2017-01-19 19:20:56.438330</td>\n",
       "      <td>control</td>\n",
       "      <td>old_page</td>\n",
       "      <td>0</td>\n",
       "      <td>1</td>\n",
       "      <td>0</td>\n",
       "      <td>US</td>\n",
       "      <td>0</td>\n",
       "      <td>0</td>\n",
       "      <td>1</td>\n",
       "    </tr>\n",
       "    <tr>\n",
       "      <th>630003</th>\n",
       "      <td>2017-01-12 10:09:31.510471</td>\n",
       "      <td>treatment</td>\n",
       "      <td>new_page</td>\n",
       "      <td>0</td>\n",
       "      <td>1</td>\n",
       "      <td>1</td>\n",
       "      <td>US</td>\n",
       "      <td>0</td>\n",
       "      <td>0</td>\n",
       "      <td>1</td>\n",
       "    </tr>\n",
       "    <tr>\n",
       "      <th>630004</th>\n",
       "      <td>2017-01-18 20:23:58.824994</td>\n",
       "      <td>treatment</td>\n",
       "      <td>new_page</td>\n",
       "      <td>0</td>\n",
       "      <td>1</td>\n",
       "      <td>1</td>\n",
       "      <td>US</td>\n",
       "      <td>0</td>\n",
       "      <td>0</td>\n",
       "      <td>1</td>\n",
       "    </tr>\n",
       "  </tbody>\n",
       "</table>\n",
       "</div>"
      ],
      "text/plain": [
       "                          timestamp      group landing_page  converted  \\\n",
       "user_id                                                                  \n",
       "630000   2017-01-19 06:26:06.548941  treatment     new_page          0   \n",
       "630001   2017-01-16 03:16:42.560309  treatment     new_page          1   \n",
       "630002   2017-01-19 19:20:56.438330    control     old_page          0   \n",
       "630003   2017-01-12 10:09:31.510471  treatment     new_page          0   \n",
       "630004   2017-01-18 20:23:58.824994  treatment     new_page          0   \n",
       "\n",
       "         intercept  ab_page country  CA  UK  US  \n",
       "user_id                                          \n",
       "630000           1        1      US   0   0   1  \n",
       "630001           1        1      US   0   0   1  \n",
       "630002           1        0      US   0   0   1  \n",
       "630003           1        1      US   0   0   1  \n",
       "630004           1        1      US   0   0   1  "
      ]
     },
     "execution_count": 218,
     "metadata": {},
     "output_type": "execute_result"
    }
   ],
   "source": [
    "df2[['CA','UK','US']] = pd.get_dummies(df2['country'])\n",
    "\n",
    "df2.head()"
   ]
  },
  {
   "cell_type": "code",
   "execution_count": 219,
   "metadata": {},
   "outputs": [
    {
     "name": "stdout",
     "output_type": "stream",
     "text": [
      "Optimization terminated successfully.\n",
      "         Current function value: 0.825077\n",
      "         Iterations 3\n"
     ]
    },
    {
     "data": {
      "text/html": [
       "<table class=\"simpletable\">\n",
       "<caption>Logit Regression Results</caption>\n",
       "<tr>\n",
       "  <th>Dep. Variable:</th>      <td>ab_page</td>     <th>  No. Observations:  </th>   <td>290584</td>   \n",
       "</tr>\n",
       "<tr>\n",
       "  <th>Model:</th>               <td>Logit</td>      <th>  Df Residuals:      </th>   <td>290580</td>   \n",
       "</tr>\n",
       "<tr>\n",
       "  <th>Method:</th>               <td>MLE</td>       <th>  Df Model:          </th>   <td>     3</td>   \n",
       "</tr>\n",
       "<tr>\n",
       "  <th>Date:</th>          <td>Sun, 04 Mar 2018</td> <th>  Pseudo R-squ.:     </th>   <td>-0.2178</td>  \n",
       "</tr>\n",
       "<tr>\n",
       "  <th>Time:</th>              <td>02:29:39</td>     <th>  Log-Likelihood:    </th> <td>-2.3975e+05</td>\n",
       "</tr>\n",
       "<tr>\n",
       "  <th>converged:</th>           <td>True</td>       <th>  LL-Null:           </th> <td>-1.9688e+05</td>\n",
       "</tr>\n",
       "<tr>\n",
       "  <th> </th>                      <td> </td>        <th>  LLR p-value:       </th>   <td> 1.000</td>   \n",
       "</tr>\n",
       "</table>\n",
       "<table class=\"simpletable\">\n",
       "<tr>\n",
       "      <td></td>         <th>coef</th>     <th>std err</th>      <th>z</th>      <th>P>|z|</th>  <th>[0.025</th>    <th>0.975]</th>  \n",
       "</tr>\n",
       "<tr>\n",
       "  <th>intercept</th> <td>    0.0159</td> <td>    0.017</td> <td>    0.956</td> <td> 0.339</td> <td>   -0.017</td> <td>    0.049</td>\n",
       "</tr>\n",
       "<tr>\n",
       "  <th>converted</th> <td>   -0.0149</td> <td>    0.011</td> <td>   -1.307</td> <td> 0.191</td> <td>   -0.037</td> <td>    0.007</td>\n",
       "</tr>\n",
       "<tr>\n",
       "  <th>UK</th>        <td>   -0.0211</td> <td>    0.018</td> <td>   -1.162</td> <td> 0.245</td> <td>   -0.057</td> <td>    0.015</td>\n",
       "</tr>\n",
       "<tr>\n",
       "  <th>US</th>        <td>   -0.0123</td> <td>    0.017</td> <td>   -0.716</td> <td> 0.474</td> <td>   -0.046</td> <td>    0.021</td>\n",
       "</tr>\n",
       "</table>"
      ],
      "text/plain": [
       "<class 'statsmodels.iolib.summary.Summary'>\n",
       "\"\"\"\n",
       "                           Logit Regression Results                           \n",
       "==============================================================================\n",
       "Dep. Variable:                ab_page   No. Observations:               290584\n",
       "Model:                          Logit   Df Residuals:                   290580\n",
       "Method:                           MLE   Df Model:                            3\n",
       "Date:                Sun, 04 Mar 2018   Pseudo R-squ.:                 -0.2178\n",
       "Time:                        02:29:39   Log-Likelihood:            -2.3975e+05\n",
       "converged:                       True   LL-Null:                   -1.9688e+05\n",
       "                                        LLR p-value:                     1.000\n",
       "==============================================================================\n",
       "                 coef    std err          z      P>|z|      [0.025      0.975]\n",
       "------------------------------------------------------------------------------\n",
       "intercept      0.0159      0.017      0.956      0.339      -0.017       0.049\n",
       "converted     -0.0149      0.011     -1.307      0.191      -0.037       0.007\n",
       "UK            -0.0211      0.018     -1.162      0.245      -0.057       0.015\n",
       "US            -0.0123      0.017     -0.716      0.474      -0.046       0.021\n",
       "==============================================================================\n",
       "\"\"\""
      ]
     },
     "execution_count": 219,
     "metadata": {},
     "output_type": "execute_result"
    }
   ],
   "source": [
    "con_logit = sm.Logit(df2['ab_page'],df2[['intercept','converted','UK','US']])\n",
    "\n",
    "result = con_logit.fit()\n",
    "result.summary()"
   ]
  },
  {
   "cell_type": "code",
   "execution_count": 220,
   "metadata": {},
   "outputs": [
    {
     "data": {
      "text/plain": [
       "1.0213241789489729"
      ]
     },
     "execution_count": 220,
     "metadata": {},
     "output_type": "execute_result"
    }
   ],
   "source": [
    "#UK\n",
    "1/np.exp(-0.0211)\n",
    "\n",
    "#For a unit decrease in UK,ab_page is 1.02 times likely holding all else is constant"
   ]
  },
  {
   "cell_type": "code",
   "execution_count": 221,
   "metadata": {},
   "outputs": [
    {
     "data": {
      "text/plain": [
       "1.0123759561005452"
      ]
     },
     "execution_count": 221,
     "metadata": {},
     "output_type": "execute_result"
    }
   ],
   "source": [
    "#US\n",
    "1/np.exp(-0.0123)\n",
    "\n",
    "#For a unit decrease in US,ab_page is 1.01 times likely holding all else is constant"
   ]
  },
  {
   "cell_type": "code",
   "execution_count": null,
   "metadata": {},
   "outputs": [],
   "source": []
  },
  {
   "cell_type": "markdown",
   "metadata": {},
   "source": [
    "h. Though you have now looked at the individual factors of country and page on conversion, we would now like to look at an interaction between page and country to see if there significant effects on conversion.  Create the necessary additional columns, and fit the new model.  \n",
    "\n",
    "Provide the summary results, and your conclusions based on the results."
   ]
  },
  {
   "cell_type": "code",
   "execution_count": 222,
   "metadata": {},
   "outputs": [
    {
     "data": {
      "text/html": [
       "<div>\n",
       "<style>\n",
       "    .dataframe thead tr:only-child th {\n",
       "        text-align: right;\n",
       "    }\n",
       "\n",
       "    .dataframe thead th {\n",
       "        text-align: left;\n",
       "    }\n",
       "\n",
       "    .dataframe tbody tr th {\n",
       "        vertical-align: top;\n",
       "    }\n",
       "</style>\n",
       "<table border=\"1\" class=\"dataframe\">\n",
       "  <thead>\n",
       "    <tr style=\"text-align: right;\">\n",
       "      <th></th>\n",
       "      <th>timestamp</th>\n",
       "      <th>group</th>\n",
       "      <th>landing_page</th>\n",
       "      <th>converted</th>\n",
       "      <th>intercept</th>\n",
       "      <th>ab_page</th>\n",
       "      <th>country</th>\n",
       "      <th>CA</th>\n",
       "      <th>UK</th>\n",
       "      <th>US</th>\n",
       "    </tr>\n",
       "    <tr>\n",
       "      <th>user_id</th>\n",
       "      <th></th>\n",
       "      <th></th>\n",
       "      <th></th>\n",
       "      <th></th>\n",
       "      <th></th>\n",
       "      <th></th>\n",
       "      <th></th>\n",
       "      <th></th>\n",
       "      <th></th>\n",
       "      <th></th>\n",
       "    </tr>\n",
       "  </thead>\n",
       "  <tbody>\n",
       "    <tr>\n",
       "      <th>630000</th>\n",
       "      <td>2017-01-19 06:26:06.548941</td>\n",
       "      <td>treatment</td>\n",
       "      <td>new_page</td>\n",
       "      <td>0</td>\n",
       "      <td>1</td>\n",
       "      <td>1</td>\n",
       "      <td>US</td>\n",
       "      <td>0</td>\n",
       "      <td>0</td>\n",
       "      <td>1</td>\n",
       "    </tr>\n",
       "    <tr>\n",
       "      <th>630001</th>\n",
       "      <td>2017-01-16 03:16:42.560309</td>\n",
       "      <td>treatment</td>\n",
       "      <td>new_page</td>\n",
       "      <td>1</td>\n",
       "      <td>1</td>\n",
       "      <td>1</td>\n",
       "      <td>US</td>\n",
       "      <td>0</td>\n",
       "      <td>0</td>\n",
       "      <td>1</td>\n",
       "    </tr>\n",
       "    <tr>\n",
       "      <th>630002</th>\n",
       "      <td>2017-01-19 19:20:56.438330</td>\n",
       "      <td>control</td>\n",
       "      <td>old_page</td>\n",
       "      <td>0</td>\n",
       "      <td>1</td>\n",
       "      <td>0</td>\n",
       "      <td>US</td>\n",
       "      <td>0</td>\n",
       "      <td>0</td>\n",
       "      <td>1</td>\n",
       "    </tr>\n",
       "    <tr>\n",
       "      <th>630003</th>\n",
       "      <td>2017-01-12 10:09:31.510471</td>\n",
       "      <td>treatment</td>\n",
       "      <td>new_page</td>\n",
       "      <td>0</td>\n",
       "      <td>1</td>\n",
       "      <td>1</td>\n",
       "      <td>US</td>\n",
       "      <td>0</td>\n",
       "      <td>0</td>\n",
       "      <td>1</td>\n",
       "    </tr>\n",
       "    <tr>\n",
       "      <th>630004</th>\n",
       "      <td>2017-01-18 20:23:58.824994</td>\n",
       "      <td>treatment</td>\n",
       "      <td>new_page</td>\n",
       "      <td>0</td>\n",
       "      <td>1</td>\n",
       "      <td>1</td>\n",
       "      <td>US</td>\n",
       "      <td>0</td>\n",
       "      <td>0</td>\n",
       "      <td>1</td>\n",
       "    </tr>\n",
       "  </tbody>\n",
       "</table>\n",
       "</div>"
      ],
      "text/plain": [
       "                          timestamp      group landing_page  converted  \\\n",
       "user_id                                                                  \n",
       "630000   2017-01-19 06:26:06.548941  treatment     new_page          0   \n",
       "630001   2017-01-16 03:16:42.560309  treatment     new_page          1   \n",
       "630002   2017-01-19 19:20:56.438330    control     old_page          0   \n",
       "630003   2017-01-12 10:09:31.510471  treatment     new_page          0   \n",
       "630004   2017-01-18 20:23:58.824994  treatment     new_page          0   \n",
       "\n",
       "         intercept  ab_page country  CA  UK  US  \n",
       "user_id                                          \n",
       "630000           1        1      US   0   0   1  \n",
       "630001           1        1      US   0   0   1  \n",
       "630002           1        0      US   0   0   1  \n",
       "630003           1        1      US   0   0   1  \n",
       "630004           1        1      US   0   0   1  "
      ]
     },
     "execution_count": 222,
     "metadata": {},
     "output_type": "execute_result"
    }
   ],
   "source": [
    "df2.head()"
   ]
  },
  {
   "cell_type": "code",
   "execution_count": 223,
   "metadata": {},
   "outputs": [
    {
     "name": "stdout",
     "output_type": "stream",
     "text": [
      "Optimization terminated successfully.\n",
      "         Current function value: 0.366113\n",
      "         Iterations 6\n"
     ]
    },
    {
     "data": {
      "text/html": [
       "<table class=\"simpletable\">\n",
       "<caption>Logit Regression Results</caption>\n",
       "<tr>\n",
       "  <th>Dep. Variable:</th>     <td>converted</td>    <th>  No. Observations:  </th>   <td>290584</td>   \n",
       "</tr>\n",
       "<tr>\n",
       "  <th>Model:</th>               <td>Logit</td>      <th>  Df Residuals:      </th>   <td>290580</td>   \n",
       "</tr>\n",
       "<tr>\n",
       "  <th>Method:</th>               <td>MLE</td>       <th>  Df Model:          </th>   <td>     3</td>   \n",
       "</tr>\n",
       "<tr>\n",
       "  <th>Date:</th>          <td>Sun, 04 Mar 2018</td> <th>  Pseudo R-squ.:     </th>  <td>2.323e-05</td> \n",
       "</tr>\n",
       "<tr>\n",
       "  <th>Time:</th>              <td>02:29:46</td>     <th>  Log-Likelihood:    </th> <td>-1.0639e+05</td>\n",
       "</tr>\n",
       "<tr>\n",
       "  <th>converged:</th>           <td>True</td>       <th>  LL-Null:           </th> <td>-1.0639e+05</td>\n",
       "</tr>\n",
       "<tr>\n",
       "  <th> </th>                      <td> </td>        <th>  LLR p-value:       </th>   <td>0.1760</td>   \n",
       "</tr>\n",
       "</table>\n",
       "<table class=\"simpletable\">\n",
       "<tr>\n",
       "      <td></td>         <th>coef</th>     <th>std err</th>      <th>z</th>      <th>P>|z|</th>  <th>[0.025</th>    <th>0.975]</th>  \n",
       "</tr>\n",
       "<tr>\n",
       "  <th>intercept</th> <td>   -2.0300</td> <td>    0.027</td> <td>  -76.249</td> <td> 0.000</td> <td>   -2.082</td> <td>   -1.978</td>\n",
       "</tr>\n",
       "<tr>\n",
       "  <th>ab_page</th>   <td>   -0.0149</td> <td>    0.011</td> <td>   -1.307</td> <td> 0.191</td> <td>   -0.037</td> <td>    0.007</td>\n",
       "</tr>\n",
       "<tr>\n",
       "  <th>UK</th>        <td>    0.0506</td> <td>    0.028</td> <td>    1.784</td> <td> 0.074</td> <td>   -0.005</td> <td>    0.106</td>\n",
       "</tr>\n",
       "<tr>\n",
       "  <th>US</th>        <td>    0.0408</td> <td>    0.027</td> <td>    1.516</td> <td> 0.130</td> <td>   -0.012</td> <td>    0.093</td>\n",
       "</tr>\n",
       "</table>"
      ],
      "text/plain": [
       "<class 'statsmodels.iolib.summary.Summary'>\n",
       "\"\"\"\n",
       "                           Logit Regression Results                           \n",
       "==============================================================================\n",
       "Dep. Variable:              converted   No. Observations:               290584\n",
       "Model:                          Logit   Df Residuals:                   290580\n",
       "Method:                           MLE   Df Model:                            3\n",
       "Date:                Sun, 04 Mar 2018   Pseudo R-squ.:               2.323e-05\n",
       "Time:                        02:29:46   Log-Likelihood:            -1.0639e+05\n",
       "converged:                       True   LL-Null:                   -1.0639e+05\n",
       "                                        LLR p-value:                    0.1760\n",
       "==============================================================================\n",
       "                 coef    std err          z      P>|z|      [0.025      0.975]\n",
       "------------------------------------------------------------------------------\n",
       "intercept     -2.0300      0.027    -76.249      0.000      -2.082      -1.978\n",
       "ab_page       -0.0149      0.011     -1.307      0.191      -0.037       0.007\n",
       "UK             0.0506      0.028      1.784      0.074      -0.005       0.106\n",
       "US             0.0408      0.027      1.516      0.130      -0.012       0.093\n",
       "==============================================================================\n",
       "\"\"\""
      ]
     },
     "execution_count": 223,
     "metadata": {},
     "output_type": "execute_result"
    }
   ],
   "source": [
    "page_logit = sm.Logit(df2['converted'],df2[['intercept','ab_page','UK','US']])\n",
    "\n",
    "result = page_logit.fit()\n",
    "result.summary()"
   ]
  },
  {
   "cell_type": "code",
   "execution_count": 224,
   "metadata": {},
   "outputs": [
    {
     "data": {
      "text/plain": [
       "1.0519020483004984"
      ]
     },
     "execution_count": 224,
     "metadata": {},
     "output_type": "execute_result"
    }
   ],
   "source": [
    "np.exp(0.0506) #UK\n",
    "\n",
    "#Conversion is 1.05 times likely in UK holding all else in constant"
   ]
  },
  {
   "cell_type": "code",
   "execution_count": 225,
   "metadata": {},
   "outputs": [
    {
     "data": {
      "text/plain": [
       "1.0416437559600236"
      ]
     },
     "execution_count": 225,
     "metadata": {},
     "output_type": "execute_result"
    }
   ],
   "source": [
    "np.exp(0.0408) #US\n",
    "\n",
    "#Conversion is 1.04 times likely in US holding all else in constant"
   ]
  },
  {
   "cell_type": "markdown",
   "metadata": {},
   "source": [
    "<a id='conclusions'></a>\n",
    "## Conclusions\n",
    "\n",
    "Congratulations on completing the project! \n",
    "\n",
    "### Gather Submission Materials\n",
    "\n",
    "Once you are satisfied with the status of your Notebook, you should save it in a format that will make it easy for others to read. You can use the __File -> Download as -> HTML (.html)__ menu to save your notebook as an .html file. If you are working locally and get an error about \"No module name\", then open a terminal and try installing the missing module using `pip install <module_name>` (don't include the \"<\" or \">\" or any words following a period in the module name).\n",
    "\n",
    "You will submit both your original Notebook and an HTML or PDF copy of the Notebook for review. There is no need for you to include any data files with your submission. If you made reference to other websites, books, and other resources to help you in solving tasks in the project, make sure that you document them. It is recommended that you either add a \"Resources\" section in a Markdown cell at the end of the Notebook report, or you can include a `readme.txt` file documenting your sources.\n",
    "\n",
    "### Submit the Project\n",
    "\n",
    "When you're ready, click on the \"Submit Project\" button to go to the project submission page. You can submit your files as a .zip archive or you can link to a GitHub repository containing your project files. If you go with GitHub, note that your submission will be a snapshot of the linked repository at time of submission. It is recommended that you keep each project in a separate repository to avoid any potential confusion: if a reviewer gets multiple folders representing multiple projects, there might be confusion regarding what project is to be evaluated.\n",
    "\n",
    "It can take us up to a week to grade the project, but in most cases it is much faster. You will get an email once your submission has been reviewed. If you are having any problems submitting your project or wish to check on the status of your submission, please email us at dataanalyst-project@udacity.com. In the meantime, you should feel free to continue on with your learning journey by continuing on to the next module in the program."
   ]
  },
  {
   "cell_type": "code",
   "execution_count": null,
   "metadata": {},
   "outputs": [],
   "source": []
  }
 ],
 "metadata": {
  "kernelspec": {
   "display_name": "Python [default]",
   "language": "python",
   "name": "python3"
  },
  "language_info": {
   "codemirror_mode": {
    "name": "ipython",
    "version": 3
   },
   "file_extension": ".py",
   "mimetype": "text/x-python",
   "name": "python",
   "nbconvert_exporter": "python",
   "pygments_lexer": "ipython3",
   "version": "3.5.4"
  }
 },
 "nbformat": 4,
 "nbformat_minor": 2
}
