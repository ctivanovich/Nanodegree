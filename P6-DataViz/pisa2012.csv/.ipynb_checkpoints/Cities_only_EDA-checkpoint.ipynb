{
 "cells": [
  {
   "cell_type": "code",
   "execution_count": 1,
   "metadata": {
    "collapsed": true
   },
   "outputs": [],
   "source": [
    "import numpy as np\n",
    "import pandas as pd"
   ]
  },
  {
   "cell_type": "code",
   "execution_count": 17,
   "metadata": {},
   "outputs": [],
   "source": [
    "pieces = pd.read_csv(\"pisa2012.csv\",  encoding='latin1', chunksize=20000, low_memory=False)\n",
    "\n",
    "df = pd.DataFrame() \n",
    "df = pd.concat(piece[piece.NC.isin(['Hong Kong-China ','Chinese Taipei ','Shanghai-China'])] for piece in pieces)"
   ]
  },
  {
   "cell_type": "code",
   "execution_count": 15,
   "metadata": {},
   "outputs": [
    {
     "data": {
      "text/html": [
       "<div>\n",
       "<style>\n",
       "    .dataframe thead tr:only-child th {\n",
       "        text-align: right;\n",
       "    }\n",
       "\n",
       "    .dataframe thead th {\n",
       "        text-align: left;\n",
       "    }\n",
       "\n",
       "    .dataframe tbody tr th {\n",
       "        vertical-align: top;\n",
       "    }\n",
       "</style>\n",
       "<table border=\"1\" class=\"dataframe\">\n",
       "  <thead>\n",
       "    <tr style=\"text-align: right;\">\n",
       "      <th></th>\n",
       "      <th>Unnamed: 0</th>\n",
       "      <th>CNT</th>\n",
       "      <th>SUBNATIO</th>\n",
       "      <th>STRATUM</th>\n",
       "      <th>OECD</th>\n",
       "      <th>NC</th>\n",
       "      <th>SCHOOLID</th>\n",
       "      <th>STIDSTD</th>\n",
       "      <th>ST01Q01</th>\n",
       "      <th>ST02Q01</th>\n",
       "      <th>...</th>\n",
       "      <th>W_FSTR75</th>\n",
       "      <th>W_FSTR76</th>\n",
       "      <th>W_FSTR77</th>\n",
       "      <th>W_FSTR78</th>\n",
       "      <th>W_FSTR79</th>\n",
       "      <th>W_FSTR80</th>\n",
       "      <th>WVARSTRR</th>\n",
       "      <th>VAR_UNIT</th>\n",
       "      <th>SENWGT_STU</th>\n",
       "      <th>VER_STU</th>\n",
       "    </tr>\n",
       "  </thead>\n",
       "  <tbody>\n",
       "  </tbody>\n",
       "</table>\n",
       "<p>0 rows × 636 columns</p>\n",
       "</div>"
      ],
      "text/plain": [
       "Empty DataFrame\n",
       "Columns: [Unnamed: 0, CNT, SUBNATIO, STRATUM, OECD, NC, SCHOOLID, STIDSTD, ST01Q01, ST02Q01, ST03Q01, ST03Q02, ST04Q01, ST05Q01, ST06Q01, ST07Q01, ST07Q02, ST07Q03, ST08Q01, ST09Q01, ST115Q01, ST11Q01, ST11Q02, ST11Q03, ST11Q04, ST11Q05, ST11Q06, ST13Q01, ST14Q01, ST14Q02, ST14Q03, ST14Q04, ST15Q01, ST17Q01, ST18Q01, ST18Q02, ST18Q03, ST18Q04, ST19Q01, ST20Q01, ST20Q02, ST20Q03, ST21Q01, ST25Q01, ST26Q01, ST26Q02, ST26Q03, ST26Q04, ST26Q05, ST26Q06, ST26Q07, ST26Q08, ST26Q09, ST26Q10, ST26Q11, ST26Q12, ST26Q13, ST26Q14, ST26Q15, ST26Q16, ST26Q17, ST27Q01, ST27Q02, ST27Q03, ST27Q04, ST27Q05, ST28Q01, ST29Q01, ST29Q02, ST29Q03, ST29Q04, ST29Q05, ST29Q06, ST29Q07, ST29Q08, ST35Q01, ST35Q02, ST35Q03, ST35Q04, ST35Q05, ST35Q06, ST37Q01, ST37Q02, ST37Q03, ST37Q04, ST37Q05, ST37Q06, ST37Q07, ST37Q08, ST42Q01, ST42Q02, ST42Q03, ST42Q04, ST42Q05, ST42Q06, ST42Q07, ST42Q08, ST42Q09, ST42Q10, ST43Q01, ...]\n",
       "Index: []\n",
       "\n",
       "[0 rows x 636 columns]"
      ]
     },
     "execution_count": 15,
     "metadata": {},
     "output_type": "execute_result"
    }
   ],
   "source": [
    "df.head(10)"
   ]
  },
  {
   "cell_type": "code",
   "execution_count": 19,
   "metadata": {},
   "outputs": [
    {
     "data": {
      "text/plain": [
       "CNT\n",
       "Chinese Taipei   -0.471364\n",
       "Name: WEALTH, dtype: float64"
      ]
     },
     "execution_count": 19,
     "metadata": {},
     "output_type": "execute_result"
    }
   ],
   "source": [
    "df.groupby('CNT')[\"WEALTH\"].agg(\"mean\")"
   ]
  },
  {
   "cell_type": "code",
   "execution_count": 13,
   "metadata": {},
   "outputs": [
    {
     "data": {
      "text/plain": [
       "Series([], Name: CNT, dtype: object)"
      ]
     },
     "execution_count": 13,
     "metadata": {},
     "output_type": "execute_result"
    }
   ],
   "source": [
    "df.CN"
   ]
  },
  {
   "cell_type": "code",
   "execution_count": null,
   "metadata": {
    "collapsed": true
   },
   "outputs": [],
   "source": []
  }
 ],
 "metadata": {
  "kernelspec": {
   "display_name": "Python 3",
   "language": "python",
   "name": "python3"
  },
  "language_info": {
   "codemirror_mode": {
    "name": "ipython",
    "version": 3
   },
   "file_extension": ".py",
   "mimetype": "text/x-python",
   "name": "python",
   "nbconvert_exporter": "python",
   "pygments_lexer": "ipython3",
   "version": "3.5.4"
  }
 },
 "nbformat": 4,
 "nbformat_minor": 2
}
